{
  "nbformat": 4,
  "nbformat_minor": 0,
  "metadata": {
    "colab": {
      "name": "Simple_LSTM.ipynb",
      "provenance": []
    },
    "kernelspec": {
      "display_name": "Python 3",
      "name": "python3"
    }
  },
  "cells": [
    {
      "cell_type": "code",
      "metadata": {
        "id": "CAQFgvthRFt9"
      },
      "source": [
        "import numpy\n",
        "import matplotlib.pyplot as plt\n",
        "import pandas\n",
        "import math\n",
        "from keras.models import Sequential\n",
        "from keras.layers import Dense\n",
        "from keras.layers import LSTM\n",
        "from sklearn.preprocessing import MinMaxScaler\n",
        "from sklearn.metrics import mean_squared_error\n",
        "import keras"
      ],
      "execution_count": null,
      "outputs": []
    },
    {
      "cell_type": "code",
      "metadata": {
        "colab": {
          "base_uri": "https://localhost:8080/",
          "height": 265
        },
        "id": "1ROTL1vBRLLe",
        "outputId": "f62df4e0-b6e6-4a30-c665-ae1d9b552613"
      },
      "source": [
        "dataset = pandas.read_csv('Brent.csv', usecols=[4],sep=';',decimal=',')\n",
        "plt.plot(dataset)\n",
        "plt.show()"
      ],
      "execution_count": null,
      "outputs": [
        {
          "output_type": "display_data",
          "data": {
            "image/png": "[encoded data removed]",
            "text/plain": [
              "<Figure size 432x288 with 1 Axes>"
            ]
          },
          "metadata": {
            "tags": [],
            "needs_background": "light"
          }
        }
      ]
    },
    {
      "cell_type": "code",
      "metadata": {
        "id": "pGN9Ii1KRNs6"
      },
      "source": [
        "numpy.random.seed(1)"
      ],
      "execution_count": null,
      "outputs": []
    },
    {
      "cell_type": "code",
      "metadata": {
        "colab": {
          "base_uri": "https://localhost:8080/"
        },
        "id": "rpMP5U8TR0VK",
        "outputId": "7876492e-4b8e-4f2a-ffdd-1377adab18e0"
      },
      "source": [
        "dataset = dataset.values\n",
        "dataset = dataset.astype('float32')\n",
        "dataset"
      ],
      "execution_count": null,
      "outputs": [
        {
          "output_type": "execute_result",
          "data": {
            "text/plain": [
              "array([[107.75],\n",
              "       [110.74],\n",
              "       [108.82],\n",
              "       ...,\n",
              "       [ 66.4 ],\n",
              "       [ 67.16],\n",
              "       [ 66.49]], dtype=float32)"
            ]
          },
          "metadata": {
            "tags": []
          },
          "execution_count": 4
        }
      ]
    },
    {
      "cell_type": "code",
      "metadata": {
        "id": "Mdqh1XZtR2XF"
      },
      "source": [
        "scaler = MinMaxScaler(feature_range=(0, 1))"
      ],
      "execution_count": null,
      "outputs": []
    },
    {
      "cell_type": "code",
      "metadata": {
        "colab": {
          "base_uri": "https://localhost:8080/"
        },
        "id": "jwDweJ5iR6wJ",
        "outputId": "734db674-1fd6-483e-f223-9b5f8b2e8353"
      },
      "source": [
        "train_size = int(len(dataset) * 0.67)\n",
        "test_size = len(dataset) - train_size\n",
        "train, test = dataset[0:train_size,:], dataset[train_size:len(dataset),:]\n",
        "print(len(train), len(test))\n",
        "scaler.fit(train)\n",
        "train=scaler.transform(train)\n",
        "test=scaler.transform(test)"
      ],
      "execution_count": null,
      "outputs": [
        {
          "output_type": "stream",
          "text": [
            "1572 775\n"
          ],
          "name": "stdout"
        }
      ]
    },
    {
      "cell_type": "code",
      "metadata": {
        "id": "pZ2st2hISD5H"
      },
      "source": [
        "def create_dataset(dataset, look_back=1):\n",
        "\tdataX, dataY = [], []\n",
        "\tfor i in range(len(dataset)-look_back-1):\n",
        "\t\ta = dataset[i:(i+look_back), 0]\n",
        "\t\tdataX.append(a)\n",
        "\t\tdataY.append(dataset[i + look_back, 0])\n",
        "\treturn numpy.array(dataX), numpy.array(dataY)"
      ],
      "execution_count": null,
      "outputs": []
    },
    {
      "cell_type": "code",
      "metadata": {
        "id": "Lpq_jqt2SHAp"
      },
      "source": [
        "look_back = 31*12\n",
        "trainX, trainY = create_dataset(train, look_back)\n",
        "testX, testY = create_dataset(test, look_back)"
      ],
      "execution_count": null,
      "outputs": []
    },
    {
      "cell_type": "code",
      "metadata": {
        "colab": {
          "base_uri": "https://localhost:8080/"
        },
        "id": "fFnMcOmMSJ3N",
        "outputId": "9d9cadd6-ba9f-4234-8811-fb4635a18b3f"
      },
      "source": [
        "trainX = numpy.reshape(trainX, (trainX.shape[0], 1, trainX.shape[1]))\n",
        "testX = numpy.reshape(testX, (testX.shape[0], 1, testX.shape[1]))\n",
        "# create and fit the LSTM network\n",
        "model = Sequential()\n",
        "model.add(LSTM(4, input_shape=(1, look_back)))\n",
        "model.add(Dense(1))\n",
        "model.compile(loss='mean_squared_error', optimizer='adam')\n",
        "model.fit(trainX, trainY, epochs=1, batch_size=20, verbose=2,shuffle=True)"
      ],
      "execution_count": null,
      "outputs": [
        {
          "output_type": "stream",
          "text": [
            "60/60 - 2s - loss: 0.0079\n"
          ],
          "name": "stdout"
        },
        {
          "output_type": "execute_result",
          "data": {
            "text/plain": [
              "<tensorflow.python.keras.callbacks.History at 0x7f308e2a42d0>"
            ]
          },
          "metadata": {
            "tags": []
          },
          "execution_count": 25
        }
      ]
    },
    {
      "cell_type": "code",
      "metadata": {
        "colab": {
          "base_uri": "https://localhost:8080/"
        },
        "id": "eG48cZEnSN4I",
        "outputId": "27a1dd48-bfa8-4742-b862-7008403c5aaf"
      },
      "source": [
        "import numpy as np\n",
        "import tqdm\n",
        "\n",
        "for i in tqdm.trange(testY.shape[0]):\n",
        "  trainY=np.concatenate((trainY,model.predict(trainY[-look_back:].reshape(1,1,look_back))[0]),axis=None)"
      ],
      "execution_count": null,
      "outputs": [
        {
          "output_type": "stream",
          "text": [
            "100%|██████████| 402/402 [00:17<00:00, 23.43it/s]\n"
          ],
          "name": "stderr"
        }
      ]
    },
    {
      "cell_type": "code",
      "metadata": {
        "colab": {
          "base_uri": "https://localhost:8080/"
        },
        "id": "msKSPKoDSRst",
        "outputId": "ffd11d2a-0add-4bbb-97ba-65f2d44e807f"
      },
      "source": [
        "# make predictions\n",
        "# invert predictions\n",
        "trainY_train = scaler.inverse_transform(trainY[:trainX.shape[0]].reshape(1,-1))\n",
        "testPredict = scaler.inverse_transform(trainY[trainX.shape[0]:].reshape(1,-1))\n",
        "testYnew = scaler.inverse_transform(testY.reshape(1,-1))\n",
        "# calculate root mean squared error\n",
        "testScore1=[]\n",
        "for i in range (1,testYnew.shape[1]):\n",
        "  testScore1.append(np.sqrt(mean_squared_error(testYnew[0][:i],testPredict[0][:i])))\n",
        "  #print(testYnew[:i],testPredict[:i],testScore1[-1])\n",
        "testScore = mean_squared_error(testYnew, testPredict)\n",
        "print('Test Score: %.2f MSE' % (testScore))"
      ],
      "execution_count": null,
      "outputs": [
        {
          "output_type": "stream",
          "text": [
            "Test Score: 1010.45 MSE\n"
          ],
          "name": "stdout"
        }
      ]
    },
    {
      "cell_type": "code",
      "metadata": {
        "colab": {
          "base_uri": "https://localhost:8080/",
          "height": 319
        },
        "id": "4PBmbpPRSUNM",
        "outputId": "9ad052e9-41d2-4240-a00d-be9d7ee6c9e6"
      },
      "source": [
        "# shift train predictions for plotting\n",
        "trainPredictPlot = numpy.empty_like(dataset)\n",
        "trainPredictPlot[:, :] = numpy.nan\n",
        "trainPredictPlot[:trainX.shape[0], :] = scaler.inverse_transform(trainY[:trainX.shape[0]].reshape(1,-1)).T\n",
        "# shift test predictions for plotting\n",
        "testPredictPlot = numpy.empty_like(dataset)\n",
        "testPredictPlot[:, :] = numpy.nan\n",
        "testPredictPlot[trainX.shape[0]:trainY.shape[0],:] = testPredict.T\n",
        "# plot baseline and predictions\n",
        "m=list(trainY_train[0][:trainX.shape[0]])\n",
        "k=list(trainY_train[0][:trainX.shape[0]])\n",
        "for i in range (len(testScore1)):\n",
        " m.append(np.sqrt(testScore1[i])+testPredictPlot[i+trainX.shape[0],:])\n",
        " k.append(testPredictPlot[i+trainX.shape[0],:]-np.sqrt(testScore1[i]))\n",
        "plt.plot(m, color='green')\n",
        "plt.plot(k, color='green')\n",
        "plt.plot(trainPredictPlot, color='blue')\n",
        "plt.plot(testPredictPlot,color='pink')\n",
        "plt.show()\n"
      ],
      "execution_count": null,
      "outputs": [
        {
          "output_type": "stream",
          "text": [
            "/usr/local/lib/python3.7/dist-packages/numpy/core/_asarray.py:136: VisibleDeprecationWarning: Creating an ndarray from ragged nested sequences (which is a list-or-tuple of lists-or-tuples-or ndarrays with different lengths or shapes) is deprecated. If you meant to do this, you must specify 'dtype=object' when creating the ndarray\n",
            "  return array(a, dtype, copy=False, order=order, subok=True)\n"
          ],
          "name": "stderr"
        },
        {
          "output_type": "display_data",
          "data": {
            "image/png": "[encoded data removed]",
            "text/plain": [
              "<Figure size 432x288 with 1 Axes>"
            ]
          },
          "metadata": {
            "tags": [],
            "needs_background": "light"
          }
        }
      ]
    },
    {
      "cell_type": "code",
      "metadata": {
        "id": "8fK9Y0XAkA0C"
      },
      "source": [
        ""
      ],
      "execution_count": null,
      "outputs": []
    }
  ]
}