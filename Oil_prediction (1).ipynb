{
  "nbformat": 4,
  "nbformat_minor": 0,
  "metadata": {
    "kernelspec": {
      "display_name": "Python 2",
      "language": "python",
      "name": "python2"
    },
    "language_info": {
      "codemirror_mode": {
        "name": "ipython",
        "version": 2
      },
      "file_extension": ".py",
      "mimetype": "text/x-python",
      "name": "python",
      "nbconvert_exporter": "python",
      "pygments_lexer": "ipython2",
      "version": "2.7.16"
    },
    "colab": {
      "name": "Oil prediction.ipynb",
      "provenance": [],
      "toc_visible": true
    }
  },
  "cells": [
    {
      "cell_type": "markdown",
      "metadata": {
        "id": "ey7xHGI3ySXw"
      },
      "source": [
        "## 1. Импорт библиотек и загрузка данных"
      ]
    },
    {
      "cell_type": "code",
      "metadata": {
        "id": "9i-UyZF3ySXz"
      },
      "source": [
        "#загрузка необходимых библиотек\n",
        "import requests\n",
        "from bs4 import BeautifulSoup\n",
        "import csv\n",
        "import pandas as pd\n",
        "import numpy as np\n",
        "import matplotlib.pyplot as plt\n",
        "import seaborn as sns\n",
        "import matplotlib\n",
        "from sklearn.model_selection import train_test_split\n",
        "from sklearn import preprocessing\n",
        "from sklearn.cluster import KMeans\n",
        "from scipy.cluster.hierarchy import dendrogram, linkage, fcluster\n",
        "matplotlib.style.use('ggplot')\n",
        "%matplotlib inline \n",
        "pd.set_option('display.float_format', lambda x: '%.1f' % x)\n",
        "from datetime import datetime"
      ],
      "execution_count": null,
      "outputs": []
    },
    {
      "cell_type": "code",
      "metadata": {
        "scrolled": false,
        "colab": {
          "base_uri": "https://localhost:8080/",
          "height": 359
        },
        "id": "A6tdHFkXySX1",
        "outputId": "1df03220-fd0e-4f37-8f6a-9826ce1b3300"
      },
      "source": [
        "brent = pd.read_csv('Brent.csv', sep=(';') , decimal=',', header=0)\n",
        "brent.columns=['ticker','m','date','a','price','volume','d','d']\n",
        "brent=brent.drop(['m','a','d','d'], axis=1)\n",
        "brent['date']=brent['date'].apply(str)\n",
        "brent['date']=brent['date'].apply(lambda x: datetime(int(x[:4]),int(x[4:6]),int(x[6:])) )\n",
        "brent.tail(10)"
      ],
      "execution_count": null,
      "outputs": [
        {
          "output_type": "execute_result",
          "data": {
            "text/plain": [
              "       ticker       date  price  volume\n",
              "2337  ICE,BRN 2021-04-09   63.0   117.8\n",
              "2338  ICE,BRN 2021-04-11   63.3     1.4\n",
              "2339  ICE,BRN 2021-04-12   63.2   162.6\n",
              "2340  ICE,BRN 2021-04-13   64.0   139.6\n",
              "2341  ICE,BRN 2021-04-14   66.3   201.4\n",
              "2342  ICE,BRN 2021-04-15   66.8   136.3\n",
              "2343  ICE,BRN 2021-04-16   66.7   114.3\n",
              "2344  ICE,BRN 2021-04-18   66.4     2.2\n",
              "2345  ICE,BRN 2021-04-19   67.2   111.0\n",
              "2346  ICE,BRN 2021-04-20   66.5   192.0"
            ],
            "text/html": [
              "<div>\n",
              "<style scoped>\n",
              "    .dataframe tbody tr th:only-of-type {\n",
              "        vertical-align: middle;\n",
              "    }\n",
              "\n",
              "    .dataframe tbody tr th {\n",
              "        vertical-align: top;\n",
              "    }\n",
              "\n",
              "    .dataframe thead th {\n",
              "        text-align: right;\n",
              "    }\n",
              "</style>\n",
              "<table border=\"1\" class=\"dataframe\">\n",
              "  <thead>\n",
              "    <tr style=\"text-align: right;\">\n",
              "      <th></th>\n",
              "      <th>ticker</th>\n",
              "      <th>date</th>\n",
              "      <th>price</th>\n",
              "      <th>volume</th>\n",
              "    </tr>\n",
              "  </thead>\n",
              "  <tbody>\n",
              "    <tr>\n",
              "      <th>2337</th>\n",
              "      <td>ICE,BRN</td>\n",
              "      <td>2021-04-09</td>\n",
              "      <td>63.0</td>\n",
              "      <td>117.8</td>\n",
              "    </tr>\n",
              "    <tr>\n",
              "      <th>2338</th>\n",
              "      <td>ICE,BRN</td>\n",
              "      <td>2021-04-11</td>\n",
              "      <td>63.3</td>\n",
              "      <td>1.4</td>\n",
              "    </tr>\n",
              "    <tr>\n",
              "      <th>2339</th>\n",
              "      <td>ICE,BRN</td>\n",
              "      <td>2021-04-12</td>\n",
              "      <td>63.2</td>\n",
              "      <td>162.6</td>\n",
              "    </tr>\n",
              "    <tr>\n",
              "      <th>2340</th>\n",
              "      <td>ICE,BRN</td>\n",
              "      <td>2021-04-13</td>\n",
              "      <td>64.0</td>\n",
              "      <td>139.6</td>\n",
              "    </tr>\n",
              "    <tr>\n",
              "      <th>2341</th>\n",
              "      <td>ICE,BRN</td>\n",
              "      <td>2021-04-14</td>\n",
              "      <td>66.3</td>\n",
              "      <td>201.4</td>\n",
              "    </tr>\n",
              "    <tr>\n",
              "      <th>2342</th>\n",
              "      <td>ICE,BRN</td>\n",
              "      <td>2021-04-15</td>\n",
              "      <td>66.8</td>\n",
              "      <td>136.3</td>\n",
              "    </tr>\n",
              "    <tr>\n",
              "      <th>2343</th>\n",
              "      <td>ICE,BRN</td>\n",
              "      <td>2021-04-16</td>\n",
              "      <td>66.7</td>\n",
              "      <td>114.3</td>\n",
              "    </tr>\n",
              "    <tr>\n",
              "      <th>2344</th>\n",
              "      <td>ICE,BRN</td>\n",
              "      <td>2021-04-18</td>\n",
              "      <td>66.4</td>\n",
              "      <td>2.2</td>\n",
              "    </tr>\n",
              "    <tr>\n",
              "      <th>2345</th>\n",
              "      <td>ICE,BRN</td>\n",
              "      <td>2021-04-19</td>\n",
              "      <td>67.2</td>\n",
              "      <td>111.0</td>\n",
              "    </tr>\n",
              "    <tr>\n",
              "      <th>2346</th>\n",
              "      <td>ICE,BRN</td>\n",
              "      <td>2021-04-20</td>\n",
              "      <td>66.5</td>\n",
              "      <td>192.0</td>\n",
              "    </tr>\n",
              "  </tbody>\n",
              "</table>\n",
              "</div>"
            ]
          },
          "metadata": {
            "tags": []
          },
          "execution_count": 2
        }
      ]
    },
    {
      "cell_type": "code",
      "metadata": {
        "colab": {
          "base_uri": "https://localhost:8080/",
          "height": 359
        },
        "id": "cPZh3LMXymbN",
        "outputId": "dfbbad4e-f854-4579-9550-ecf101ca5c64"
      },
      "source": [
        "inf = pd.read_excel('INF.xlsx',sep=(';') ,header=0)\n",
        "inf.columns=['date','inf']\n",
        "inf['date']=pd.to_datetime(inf['date'])\n",
        "inf['month']=inf.date.apply(lambda x:datetime(x.year, x.month,1))\n",
        "inf.tail(10)"
      ],
      "execution_count": null,
      "outputs": [
        {
          "output_type": "execute_result",
          "data": {
            "text/plain": [
              "         date   inf      month\n",
              "71 2019-08-01  99.8 2019-08-01\n",
              "72 2019-09-01  99.8 2019-09-01\n",
              "73 2019-10-01 100.1 2019-10-01\n",
              "74 2019-11-01 100.3 2019-11-01\n",
              "75 2019-12-01 100.4 2019-12-01\n",
              "76 2020-01-01 100.4 2020-01-01\n",
              "77 2020-02-01 100.3 2020-02-01\n",
              "78 2020-03-01 100.5 2020-03-01\n",
              "79 2020-04-01 100.8 2020-04-01\n",
              "80 2020-05-01 100.3 2020-05-01"
            ],
            "text/html": [
              "<div>\n",
              "<style scoped>\n",
              "    .dataframe tbody tr th:only-of-type {\n",
              "        vertical-align: middle;\n",
              "    }\n",
              "\n",
              "    .dataframe tbody tr th {\n",
              "        vertical-align: top;\n",
              "    }\n",
              "\n",
              "    .dataframe thead th {\n",
              "        text-align: right;\n",
              "    }\n",
              "</style>\n",
              "<table border=\"1\" class=\"dataframe\">\n",
              "  <thead>\n",
              "    <tr style=\"text-align: right;\">\n",
              "      <th></th>\n",
              "      <th>date</th>\n",
              "      <th>inf</th>\n",
              "      <th>month</th>\n",
              "    </tr>\n",
              "  </thead>\n",
              "  <tbody>\n",
              "    <tr>\n",
              "      <th>71</th>\n",
              "      <td>2019-08-01</td>\n",
              "      <td>99.8</td>\n",
              "      <td>2019-08-01</td>\n",
              "    </tr>\n",
              "    <tr>\n",
              "      <th>72</th>\n",
              "      <td>2019-09-01</td>\n",
              "      <td>99.8</td>\n",
              "      <td>2019-09-01</td>\n",
              "    </tr>\n",
              "    <tr>\n",
              "      <th>73</th>\n",
              "      <td>2019-10-01</td>\n",
              "      <td>100.1</td>\n",
              "      <td>2019-10-01</td>\n",
              "    </tr>\n",
              "    <tr>\n",
              "      <th>74</th>\n",
              "      <td>2019-11-01</td>\n",
              "      <td>100.3</td>\n",
              "      <td>2019-11-01</td>\n",
              "    </tr>\n",
              "    <tr>\n",
              "      <th>75</th>\n",
              "      <td>2019-12-01</td>\n",
              "      <td>100.4</td>\n",
              "      <td>2019-12-01</td>\n",
              "    </tr>\n",
              "    <tr>\n",
              "      <th>76</th>\n",
              "      <td>2020-01-01</td>\n",
              "      <td>100.4</td>\n",
              "      <td>2020-01-01</td>\n",
              "    </tr>\n",
              "    <tr>\n",
              "      <th>77</th>\n",
              "      <td>2020-02-01</td>\n",
              "      <td>100.3</td>\n",
              "      <td>2020-02-01</td>\n",
              "    </tr>\n",
              "    <tr>\n",
              "      <th>78</th>\n",
              "      <td>2020-03-01</td>\n",
              "      <td>100.5</td>\n",
              "      <td>2020-03-01</td>\n",
              "    </tr>\n",
              "    <tr>\n",
              "      <th>79</th>\n",
              "      <td>2020-04-01</td>\n",
              "      <td>100.8</td>\n",
              "      <td>2020-04-01</td>\n",
              "    </tr>\n",
              "    <tr>\n",
              "      <th>80</th>\n",
              "      <td>2020-05-01</td>\n",
              "      <td>100.3</td>\n",
              "      <td>2020-05-01</td>\n",
              "    </tr>\n",
              "  </tbody>\n",
              "</table>\n",
              "</div>"
            ]
          },
          "metadata": {
            "tags": []
          },
          "execution_count": 3
        }
      ]
    },
    {
      "cell_type": "code",
      "metadata": {
        "colab": {
          "base_uri": "https://localhost:8080/",
          "height": 359
        },
        "id": "JiSsMY3PzDVL",
        "outputId": "cf1270b1-7407-40b9-c005-0be01124b513"
      },
      "source": [
        "keyrate = pd.read_excel('keyrate.xlsx',sep=(';') ,header=0)\n",
        "keyrate.columns=['date','keyrate']\n",
        "keyrate['date']=pd.to_datetime(keyrate['date'])\n",
        "keyrate.head(10)"
      ],
      "execution_count": null,
      "outputs": [
        {
          "output_type": "execute_result",
          "data": {
            "text/plain": [
              "        date  keyrate\n",
              "0 2021-04-20      4.5\n",
              "1 2021-04-19      4.5\n",
              "2 2021-04-16      4.5\n",
              "3 2021-04-15      4.5\n",
              "4 2021-04-14      4.5\n",
              "5 2021-04-13      4.5\n",
              "6 2021-04-12      4.5\n",
              "7 2021-04-09      4.5\n",
              "8 2021-04-08      4.5\n",
              "9 2021-04-07      4.5"
            ],
            "text/html": [
              "<div>\n",
              "<style scoped>\n",
              "    .dataframe tbody tr th:only-of-type {\n",
              "        vertical-align: middle;\n",
              "    }\n",
              "\n",
              "    .dataframe tbody tr th {\n",
              "        vertical-align: top;\n",
              "    }\n",
              "\n",
              "    .dataframe thead th {\n",
              "        text-align: right;\n",
              "    }\n",
              "</style>\n",
              "<table border=\"1\" class=\"dataframe\">\n",
              "  <thead>\n",
              "    <tr style=\"text-align: right;\">\n",
              "      <th></th>\n",
              "      <th>date</th>\n",
              "      <th>keyrate</th>\n",
              "    </tr>\n",
              "  </thead>\n",
              "  <tbody>\n",
              "    <tr>\n",
              "      <th>0</th>\n",
              "      <td>2021-04-20</td>\n",
              "      <td>4.5</td>\n",
              "    </tr>\n",
              "    <tr>\n",
              "      <th>1</th>\n",
              "      <td>2021-04-19</td>\n",
              "      <td>4.5</td>\n",
              "    </tr>\n",
              "    <tr>\n",
              "      <th>2</th>\n",
              "      <td>2021-04-16</td>\n",
              "      <td>4.5</td>\n",
              "    </tr>\n",
              "    <tr>\n",
              "      <th>3</th>\n",
              "      <td>2021-04-15</td>\n",
              "      <td>4.5</td>\n",
              "    </tr>\n",
              "    <tr>\n",
              "      <th>4</th>\n",
              "      <td>2021-04-14</td>\n",
              "      <td>4.5</td>\n",
              "    </tr>\n",
              "    <tr>\n",
              "      <th>5</th>\n",
              "      <td>2021-04-13</td>\n",
              "      <td>4.5</td>\n",
              "    </tr>\n",
              "    <tr>\n",
              "      <th>6</th>\n",
              "      <td>2021-04-12</td>\n",
              "      <td>4.5</td>\n",
              "    </tr>\n",
              "    <tr>\n",
              "      <th>7</th>\n",
              "      <td>2021-04-09</td>\n",
              "      <td>4.5</td>\n",
              "    </tr>\n",
              "    <tr>\n",
              "      <th>8</th>\n",
              "      <td>2021-04-08</td>\n",
              "      <td>4.5</td>\n",
              "    </tr>\n",
              "    <tr>\n",
              "      <th>9</th>\n",
              "      <td>2021-04-07</td>\n",
              "      <td>4.5</td>\n",
              "    </tr>\n",
              "  </tbody>\n",
              "</table>\n",
              "</div>"
            ]
          },
          "metadata": {
            "tags": []
          },
          "execution_count": 4
        }
      ]
    },
    {
      "cell_type": "code",
      "metadata": {
        "colab": {
          "base_uri": "https://localhost:8080/",
          "height": 359
        },
        "id": "-kMw8RmezL7H",
        "outputId": "795581a2-a369-467c-f63f-f097e2856979"
      },
      "source": [
        "exch = pd.read_excel('exchange.xlsx',sep=(';') ,header=0)\n",
        "exch.columns=['date','m','exchange']\n",
        "exch=exch.drop(['m'],axis=1)\n",
        "exch['date']=pd.to_datetime(exch['date'])\n",
        "exch.head(10)"
      ],
      "execution_count": null,
      "outputs": [
        {
          "output_type": "execute_result",
          "data": {
            "text/plain": [
              "        date  exchange\n",
              "0 2021-04-20      76.2\n",
              "1 2021-04-17      75.6\n",
              "2 2021-04-16      77.0\n",
              "3 2021-04-15      75.7\n",
              "4 2021-04-14      77.3\n",
              "5 2021-04-13      77.5\n",
              "6 2021-04-10      77.2\n",
              "7 2021-04-09      77.1\n",
              "8 2021-04-08      77.8\n",
              "9 2021-04-07      76.4"
            ],
            "text/html": [
              "<div>\n",
              "<style scoped>\n",
              "    .dataframe tbody tr th:only-of-type {\n",
              "        vertical-align: middle;\n",
              "    }\n",
              "\n",
              "    .dataframe tbody tr th {\n",
              "        vertical-align: top;\n",
              "    }\n",
              "\n",
              "    .dataframe thead th {\n",
              "        text-align: right;\n",
              "    }\n",
              "</style>\n",
              "<table border=\"1\" class=\"dataframe\">\n",
              "  <thead>\n",
              "    <tr style=\"text-align: right;\">\n",
              "      <th></th>\n",
              "      <th>date</th>\n",
              "      <th>exchange</th>\n",
              "    </tr>\n",
              "  </thead>\n",
              "  <tbody>\n",
              "    <tr>\n",
              "      <th>0</th>\n",
              "      <td>2021-04-20</td>\n",
              "      <td>76.2</td>\n",
              "    </tr>\n",
              "    <tr>\n",
              "      <th>1</th>\n",
              "      <td>2021-04-17</td>\n",
              "      <td>75.6</td>\n",
              "    </tr>\n",
              "    <tr>\n",
              "      <th>2</th>\n",
              "      <td>2021-04-16</td>\n",
              "      <td>77.0</td>\n",
              "    </tr>\n",
              "    <tr>\n",
              "      <th>3</th>\n",
              "      <td>2021-04-15</td>\n",
              "      <td>75.7</td>\n",
              "    </tr>\n",
              "    <tr>\n",
              "      <th>4</th>\n",
              "      <td>2021-04-14</td>\n",
              "      <td>77.3</td>\n",
              "    </tr>\n",
              "    <tr>\n",
              "      <th>5</th>\n",
              "      <td>2021-04-13</td>\n",
              "      <td>77.5</td>\n",
              "    </tr>\n",
              "    <tr>\n",
              "      <th>6</th>\n",
              "      <td>2021-04-10</td>\n",
              "      <td>77.2</td>\n",
              "    </tr>\n",
              "    <tr>\n",
              "      <th>7</th>\n",
              "      <td>2021-04-09</td>\n",
              "      <td>77.1</td>\n",
              "    </tr>\n",
              "    <tr>\n",
              "      <th>8</th>\n",
              "      <td>2021-04-08</td>\n",
              "      <td>77.8</td>\n",
              "    </tr>\n",
              "    <tr>\n",
              "      <th>9</th>\n",
              "      <td>2021-04-07</td>\n",
              "      <td>76.4</td>\n",
              "    </tr>\n",
              "  </tbody>\n",
              "</table>\n",
              "</div>"
            ]
          },
          "metadata": {
            "tags": []
          },
          "execution_count": 5
        }
      ]
    },
    {
      "cell_type": "code",
      "metadata": {
        "colab": {
          "base_uri": "https://localhost:8080/",
          "height": 359
        },
        "id": "QMz0VgJcJnLv",
        "outputId": "f568e591-423f-4953-ca58-ff990b9b1e03"
      },
      "source": [
        "dob = pd.read_excel('dob.xlsx',sep=(';') ,header=0)\n",
        "dob.columns=['month','dob']\n",
        "dob['month']=dob['month'].apply(str)\n",
        "dob['month']=dob['month'].apply(lambda x: datetime(  int(x[6:]),int(x[3:5]),int(x[:2])))\n",
        "dob.head(10)\n"
      ],
      "execution_count": null,
      "outputs": [
        {
          "output_type": "execute_result",
          "data": {
            "text/plain": [
              "       month     dob\n",
              "0 2013-02-01 39939.0\n",
              "1 2013-03-01 44185.0\n",
              "2 2013-04-01 42762.0\n",
              "3 2013-05-01 44285.0\n",
              "4 2013-06-01 42965.0\n",
              "5 2013-07-01 44074.0\n",
              "6 2013-08-01 44504.0\n",
              "7 2013-09-01 43116.0\n",
              "8 2013-10-01 44707.0\n",
              "9 2013-11-01 43465.0"
            ],
            "text/html": [
              "<div>\n",
              "<style scoped>\n",
              "    .dataframe tbody tr th:only-of-type {\n",
              "        vertical-align: middle;\n",
              "    }\n",
              "\n",
              "    .dataframe tbody tr th {\n",
              "        vertical-align: top;\n",
              "    }\n",
              "\n",
              "    .dataframe thead th {\n",
              "        text-align: right;\n",
              "    }\n",
              "</style>\n",
              "<table border=\"1\" class=\"dataframe\">\n",
              "  <thead>\n",
              "    <tr style=\"text-align: right;\">\n",
              "      <th></th>\n",
              "      <th>month</th>\n",
              "      <th>dob</th>\n",
              "    </tr>\n",
              "  </thead>\n",
              "  <tbody>\n",
              "    <tr>\n",
              "      <th>0</th>\n",
              "      <td>2013-02-01</td>\n",
              "      <td>39939.0</td>\n",
              "    </tr>\n",
              "    <tr>\n",
              "      <th>1</th>\n",
              "      <td>2013-03-01</td>\n",
              "      <td>44185.0</td>\n",
              "    </tr>\n",
              "    <tr>\n",
              "      <th>2</th>\n",
              "      <td>2013-04-01</td>\n",
              "      <td>42762.0</td>\n",
              "    </tr>\n",
              "    <tr>\n",
              "      <th>3</th>\n",
              "      <td>2013-05-01</td>\n",
              "      <td>44285.0</td>\n",
              "    </tr>\n",
              "    <tr>\n",
              "      <th>4</th>\n",
              "      <td>2013-06-01</td>\n",
              "      <td>42965.0</td>\n",
              "    </tr>\n",
              "    <tr>\n",
              "      <th>5</th>\n",
              "      <td>2013-07-01</td>\n",
              "      <td>44074.0</td>\n",
              "    </tr>\n",
              "    <tr>\n",
              "      <th>6</th>\n",
              "      <td>2013-08-01</td>\n",
              "      <td>44504.0</td>\n",
              "    </tr>\n",
              "    <tr>\n",
              "      <th>7</th>\n",
              "      <td>2013-09-01</td>\n",
              "      <td>43116.0</td>\n",
              "    </tr>\n",
              "    <tr>\n",
              "      <th>8</th>\n",
              "      <td>2013-10-01</td>\n",
              "      <td>44707.0</td>\n",
              "    </tr>\n",
              "    <tr>\n",
              "      <th>9</th>\n",
              "      <td>2013-11-01</td>\n",
              "      <td>43465.0</td>\n",
              "    </tr>\n",
              "  </tbody>\n",
              "</table>\n",
              "</div>"
            ]
          },
          "metadata": {
            "tags": []
          },
          "execution_count": 6
        }
      ]
    },
    {
      "cell_type": "code",
      "metadata": {
        "colab": {
          "base_uri": "https://localhost:8080/"
        },
        "id": "lftibziX4IaC",
        "outputId": "c3f1b725-4ac7-44d4-b267-94bb13f885e3"
      },
      "source": [
        "brentexch=brent.merge(exch)\n",
        "brentexchkeyrate=brentexch.merge(keyrate)\n",
        "brentexchkeyrate['month']=brentexchkeyrate.date.apply(lambda x:datetime(x.year, x.month,1))\n",
        "brentexchkeyrateinf=brentexchkeyrate.merge(inf,on='month')\n",
        "brentexchkeyrateinfdob=brentexchkeyrateinf.merge(dob)\n",
        "dt=brentexchkeyrateinfdob.drop(['month','date_y'],axis=1)\n",
        "dt.head"
      ],
      "execution_count": null,
      "outputs": [
        {
          "output_type": "execute_result",
          "data": {
            "text/plain": [
              "<bound method DataFrame.head of        ticker     date_x  price  volume  exchange  keyrate   inf     dob\n",
              "0     ICE,BRN 2013-09-17  107.8   119.7      32.3      5.5 100.2 43116.0\n",
              "1     ICE,BRN 2013-09-18  110.7   109.9      32.3      5.5 100.2 43116.0\n",
              "2     ICE,BRN 2013-09-19  108.8   123.6      32.2      5.5 100.2 43116.0\n",
              "3     ICE,BRN 2013-09-20  109.3    99.0      31.6      5.5 100.2 43116.0\n",
              "4     ICE,BRN 2013-09-24  108.8   101.6      31.9      5.5 100.2 43116.0\n",
              "5     ICE,BRN 2013-09-25  108.1   115.7      31.8      5.5 100.2 43116.0\n",
              "6     ICE,BRN 2013-09-26  109.2    85.2      31.9      5.5 100.2 43116.0\n",
              "7     ICE,BRN 2013-09-27  108.4   112.8      32.2      5.5 100.2 43116.0\n",
              "8     ICE,BRN 2013-10-01  106.9    54.2      32.5      5.5 100.6 44707.0\n",
              "9     ICE,BRN 2013-10-02  108.0    48.6      32.3      5.5 100.6 44707.0\n",
              "10    ICE,BRN 2013-10-03  107.7    45.6      32.3      5.5 100.6 44707.0\n",
              "11    ICE,BRN 2013-10-04  108.5    40.4      32.1      5.5 100.6 44707.0\n",
              "12    ICE,BRN 2013-10-08  109.4    52.0      32.3      5.5 100.6 44707.0\n",
              "13    ICE,BRN 2013-10-09  108.2    66.3      32.3      5.5 100.6 44707.0\n",
              "14    ICE,BRN 2013-10-10  110.9   104.1      32.4      5.5 100.6 44707.0\n",
              "15    ICE,BRN 2013-10-11  110.3    74.3      32.4      5.5 100.6 44707.0\n",
              "16    ICE,BRN 2013-10-15  109.0    78.3      32.3      5.5 100.6 44707.0\n",
              "17    ICE,BRN 2013-10-16  110.5   112.0      32.3      5.5 100.6 44707.0\n",
              "18    ICE,BRN 2013-10-17  109.0   134.1      32.3      5.5 100.6 44707.0\n",
              "19    ICE,BRN 2013-10-18  109.9    96.4      32.1      5.5 100.6 44707.0\n",
              "20    ICE,BRN 2013-10-22  110.1   126.7      31.9      5.5 100.6 44707.0\n",
              "21    ICE,BRN 2013-10-23  107.7   172.5      31.9      5.5 100.6 44707.0\n",
              "22    ICE,BRN 2013-10-24  107.0   128.7      31.7      5.5 100.6 44707.0\n",
              "23    ICE,BRN 2013-10-25  107.1   106.1      31.7      5.5 100.6 44707.0\n",
              "24    ICE,BRN 2013-10-29  108.8    96.0      31.8      5.5 100.6 44707.0\n",
              "25    ICE,BRN 2013-10-30  109.8   116.8      31.9      5.5 100.6 44707.0\n",
              "26    ICE,BRN 2013-10-31  108.9   118.0      32.1      5.5 100.6 44707.0\n",
              "27    ICE,BRN 2013-11-01  106.0    42.4      32.1      5.5 100.6 43465.0\n",
              "28    ICE,BRN 2013-11-06  105.0    39.8      32.4      5.5 100.6 43465.0\n",
              "29    ICE,BRN 2013-11-07  103.5    65.9      32.5      5.5 100.6 43465.0\n",
              "...       ...        ...    ...     ...       ...      ...   ...     ...\n",
              "1257  ICE,BRN 2020-03-25   30.1    74.5      78.8      6.0 100.5 47779.9\n",
              "1258  ICE,BRN 2020-03-26   29.3   128.7      77.8      6.0 100.5 47779.9\n",
              "1259  ICE,BRN 2020-03-27   28.2   154.3      78.7      6.0 100.5 47779.9\n",
              "1260  ICE,BRN 2020-04-07   32.4   173.9      76.4      6.0 100.8 46406.4\n",
              "1261  ICE,BRN 2020-04-08   33.6   192.7      75.5      6.0 100.8 46406.4\n",
              "1262  ICE,BRN 2020-04-09   32.0   270.1      75.7      6.0 100.8 46406.4\n",
              "1263  ICE,BRN 2020-04-14   30.1   166.2      73.5      6.0 100.8 46406.4\n",
              "1264  ICE,BRN 2020-04-15   28.0   175.7      73.3      6.0 100.8 46406.4\n",
              "1265  ICE,BRN 2020-04-16   28.5   161.4      73.7      6.0 100.8 46406.4\n",
              "1266  ICE,BRN 2020-04-17   28.2   167.0      74.7      6.0 100.8 46406.4\n",
              "1267  ICE,BRN 2020-04-21   19.5   419.7      74.7      6.0 100.8 46406.4\n",
              "1268  ICE,BRN 2020-04-22   20.9   222.1      76.3      6.0 100.8 46406.4\n",
              "1269  ICE,BRN 2020-04-23   21.6   142.4      77.0      6.0 100.8 46406.4\n",
              "1270  ICE,BRN 2020-04-24   21.8   101.0      75.1      6.0 100.8 46406.4\n",
              "1271  ICE,BRN 2020-04-28   23.2   186.5      74.5      5.5 100.8 46406.4\n",
              "1272  ICE,BRN 2020-04-29   24.4   196.5      74.6      5.5 100.8 46406.4\n",
              "1273  ICE,BRN 2020-04-30   26.7   233.8      73.7      5.5 100.8 46406.4\n",
              "1274  ICE,BRN 2020-05-07   29.4   169.6      74.0      5.5 100.3 39739.7\n",
              "1275  ICE,BRN 2020-05-08   30.9    97.7      74.1      5.5 100.3 39739.7\n",
              "1276  ICE,BRN 2020-05-13   29.5   148.3      73.4      5.5 100.3 39739.7\n",
              "1277  ICE,BRN 2020-05-14   31.4   141.0      73.6      5.5 100.3 39739.7\n",
              "1278  ICE,BRN 2020-05-15   32.7   138.6      73.9      5.5 100.3 39739.7\n",
              "1279  ICE,BRN 2020-05-19   34.5   116.3      73.0      5.5 100.3 39739.7\n",
              "1280  ICE,BRN 2020-05-20   35.8   120.0      72.4      5.5 100.3 39739.7\n",
              "1281  ICE,BRN 2020-05-21   36.0   106.6      72.3      5.5 100.3 39739.7\n",
              "1282  ICE,BRN 2020-05-22   35.1   110.2      70.9      5.5 100.3 39739.7\n",
              "1283  ICE,BRN 2020-05-26   36.7    94.5      71.6      5.5 100.3 39739.7\n",
              "1284  ICE,BRN 2020-05-27   35.0   133.4      71.1      5.5 100.3 39739.7\n",
              "1285  ICE,BRN 2020-05-28   36.2   151.8      71.1      5.5 100.3 39739.7\n",
              "1286  ICE,BRN 2020-05-29   37.6   161.1      71.1      5.5 100.3 39739.7\n",
              "\n",
              "[1287 rows x 8 columns]>"
            ]
          },
          "metadata": {
            "tags": []
          },
          "execution_count": 15
        }
      ]
    },
    {
      "cell_type": "markdown",
      "metadata": {
        "id": "1oBG5qWKySX2"
      },
      "source": [
        "## 2. Описание, анализ и визуализация данных:"
      ]
    },
    {
      "cell_type": "markdown",
      "metadata": {
        "id": "pb82q2UPySX5"
      },
      "source": [
        "Выведем информацию по нашим данным"
      ]
    },
    {
      "cell_type": "code",
      "metadata": {
        "colab": {
          "base_uri": "https://localhost:8080/"
        },
        "id": "BESRXZTFySX6",
        "outputId": "7064cc8c-9053-4a98-802a-70c61f526d7a"
      },
      "source": [
        "dt.info()"
      ],
      "execution_count": null,
      "outputs": [
        {
          "output_type": "stream",
          "text": [
            "<class 'pandas.core.frame.DataFrame'>\n",
            "Int64Index: 1287 entries, 0 to 1286\n",
            "Data columns (total 8 columns):\n",
            "ticker      1287 non-null object\n",
            "date_x      1287 non-null datetime64[ns]\n",
            "price       1287 non-null float64\n",
            "volume      1287 non-null float64\n",
            "exchange    1287 non-null float64\n",
            "keyrate     1287 non-null float64\n",
            "inf         1287 non-null float64\n",
            "dob         1287 non-null float64\n",
            "dtypes: datetime64[ns](1), float64(6), object(1)\n",
            "memory usage: 90.5+ KB\n"
          ],
          "name": "stdout"
        }
      ]
    },
    {
      "cell_type": "markdown",
      "metadata": {
        "id": "mqbhqhFoySX7"
      },
      "source": [
        "Выведем описание информации по столбцам"
      ]
    },
    {
      "cell_type": "code",
      "metadata": {
        "colab": {
          "base_uri": "https://localhost:8080/",
          "height": 297
        },
        "id": "Qp1KKen3ySX7",
        "outputId": "5c906358-ad58-4ce1-cf36-2e9caae8103d"
      },
      "source": [
        "dt.describe()"
      ],
      "execution_count": null,
      "outputs": [
        {
          "output_type": "execute_result",
          "data": {
            "text/plain": [
              "       price  volume  exchange  keyrate    inf     dob\n",
              "count 1287.0  1287.0    1287.0   1287.0 1287.0  1287.0\n",
              "mean    65.6   151.8      58.1      8.8  100.5 45383.3\n",
              "std     21.5    56.1      11.7      2.4    0.5  1731.3\n",
              "min     19.5     0.0      31.6      5.5   99.5 39739.7\n",
              "25%     50.8   117.3      56.4      7.2  100.2 44579.0\n",
              "50%     61.2   151.0      62.4      8.0  100.4 45309.2\n",
              "75%     73.7   184.2      65.4     10.5  100.6 46406.8\n",
              "max    114.9   522.6      83.6     17.0  103.8 48443.9"
            ],
            "text/html": [
              "<div>\n",
              "<style scoped>\n",
              "    .dataframe tbody tr th:only-of-type {\n",
              "        vertical-align: middle;\n",
              "    }\n",
              "\n",
              "    .dataframe tbody tr th {\n",
              "        vertical-align: top;\n",
              "    }\n",
              "\n",
              "    .dataframe thead th {\n",
              "        text-align: right;\n",
              "    }\n",
              "</style>\n",
              "<table border=\"1\" class=\"dataframe\">\n",
              "  <thead>\n",
              "    <tr style=\"text-align: right;\">\n",
              "      <th></th>\n",
              "      <th>price</th>\n",
              "      <th>volume</th>\n",
              "      <th>exchange</th>\n",
              "      <th>keyrate</th>\n",
              "      <th>inf</th>\n",
              "      <th>dob</th>\n",
              "    </tr>\n",
              "  </thead>\n",
              "  <tbody>\n",
              "    <tr>\n",
              "      <th>count</th>\n",
              "      <td>1287.0</td>\n",
              "      <td>1287.0</td>\n",
              "      <td>1287.0</td>\n",
              "      <td>1287.0</td>\n",
              "      <td>1287.0</td>\n",
              "      <td>1287.0</td>\n",
              "    </tr>\n",
              "    <tr>\n",
              "      <th>mean</th>\n",
              "      <td>65.6</td>\n",
              "      <td>151.8</td>\n",
              "      <td>58.1</td>\n",
              "      <td>8.8</td>\n",
              "      <td>100.5</td>\n",
              "      <td>45383.3</td>\n",
              "    </tr>\n",
              "    <tr>\n",
              "      <th>std</th>\n",
              "      <td>21.5</td>\n",
              "      <td>56.1</td>\n",
              "      <td>11.7</td>\n",
              "      <td>2.4</td>\n",
              "      <td>0.5</td>\n",
              "      <td>1731.3</td>\n",
              "    </tr>\n",
              "    <tr>\n",
              "      <th>min</th>\n",
              "      <td>19.5</td>\n",
              "      <td>0.0</td>\n",
              "      <td>31.6</td>\n",
              "      <td>5.5</td>\n",
              "      <td>99.5</td>\n",
              "      <td>39739.7</td>\n",
              "    </tr>\n",
              "    <tr>\n",
              "      <th>25%</th>\n",
              "      <td>50.8</td>\n",
              "      <td>117.3</td>\n",
              "      <td>56.4</td>\n",
              "      <td>7.2</td>\n",
              "      <td>100.2</td>\n",
              "      <td>44579.0</td>\n",
              "    </tr>\n",
              "    <tr>\n",
              "      <th>50%</th>\n",
              "      <td>61.2</td>\n",
              "      <td>151.0</td>\n",
              "      <td>62.4</td>\n",
              "      <td>8.0</td>\n",
              "      <td>100.4</td>\n",
              "      <td>45309.2</td>\n",
              "    </tr>\n",
              "    <tr>\n",
              "      <th>75%</th>\n",
              "      <td>73.7</td>\n",
              "      <td>184.2</td>\n",
              "      <td>65.4</td>\n",
              "      <td>10.5</td>\n",
              "      <td>100.6</td>\n",
              "      <td>46406.8</td>\n",
              "    </tr>\n",
              "    <tr>\n",
              "      <th>max</th>\n",
              "      <td>114.9</td>\n",
              "      <td>522.6</td>\n",
              "      <td>83.6</td>\n",
              "      <td>17.0</td>\n",
              "      <td>103.8</td>\n",
              "      <td>48443.9</td>\n",
              "    </tr>\n",
              "  </tbody>\n",
              "</table>\n",
              "</div>"
            ]
          },
          "metadata": {
            "tags": []
          },
          "execution_count": 9
        }
      ]
    },
    {
      "cell_type": "markdown",
      "metadata": {
        "id": "FkMUfz-hySX8"
      },
      "source": [
        "Проверим данные на нулевые значения"
      ]
    },
    {
      "cell_type": "code",
      "metadata": {
        "scrolled": true,
        "colab": {
          "base_uri": "https://localhost:8080/"
        },
        "id": "HcQ7cHxJySX8",
        "outputId": "9e94f0ac-0fa8-4534-e138-af927a18ef94"
      },
      "source": [
        "dt.isnull().sum()"
      ],
      "execution_count": null,
      "outputs": [
        {
          "output_type": "execute_result",
          "data": {
            "text/plain": [
              "ticker      0\n",
              "date_x      0\n",
              "price       0\n",
              "volume      0\n",
              "exchange    0\n",
              "keyrate     0\n",
              "inf         0\n",
              "dob         0\n",
              "dtype: int64"
            ]
          },
          "metadata": {
            "tags": []
          },
          "execution_count": 9
        }
      ]
    },
    {
      "cell_type": "code",
      "metadata": {
        "colab": {
          "base_uri": "https://localhost:8080/",
          "height": 272
        },
        "id": "UCqv2i4CySX9",
        "outputId": "ea932a25-4c20-416c-b279-35266b99f69b"
      },
      "source": [
        "print(\"Медианное цены нефти = \"+str(dt.price.median()))\n",
        "\n",
        "plt.subplot(1,2,2)\n",
        "ax = sns.boxplot(y=dt.price, color='yellow')\n",
        "\n",
        "plt.show()"
      ],
      "execution_count": null,
      "outputs": [
        {
          "output_type": "stream",
          "text": [
            "Медианное цены нефти = 61.22\n"
          ],
          "name": "stdout"
        },
        {
          "output_type": "display_data",
          "data": {
            "image/png": "[encoded data removed]",
            "text/plain": [
              "<Figure size 432x288 with 1 Axes>"
            ]
          },
          "metadata": {
            "tags": [],
            "needs_background": "light"
          }
        }
      ]
    },
    {
      "cell_type": "code",
      "metadata": {
        "colab": {
          "base_uri": "https://localhost:8080/"
        },
        "id": "tSgVpALTySYD",
        "outputId": "b41772c7-3ec5-4e91-cb1a-e337bcf70e25"
      },
      "source": [
        "dt_corruption = dt[\"price\"]\n",
        "Q1 = dt_corruption.quantile(0.25)\n",
        "Q3 = dt_corruption.quantile(0.75)\n",
        "IQR = Q3 - Q1\n",
        "lower_bound = Q1 - 1.5*IQR\n",
        "upper_bound = Q3 + 1.5*IQR\n",
        "print('Lower bound: ' + str(lower_bound))\n",
        "print('Upper bound: ' + str(upper_bound))\n",
        "print('Q1:', Q1)\n",
        "print('Q3:', Q3)"
      ],
      "execution_count": null,
      "outputs": [
        {
          "output_type": "stream",
          "text": [
            "Lower bound: 16.49750000000001\n",
            "Upper bound: 107.95749999999998\n",
            "('Q1:', 50.795)\n",
            "('Q3:', 73.66)\n"
          ],
          "name": "stdout"
        }
      ]
    },
    {
      "cell_type": "markdown",
      "metadata": {
        "id": "-57yxHHKySYE"
      },
      "source": [
        "Определили нижнюю и верхнюю границу, после которых значение можно считать выпадающим. Посмотрим, сколько у нас выпадающих значений."
      ]
    },
    {
      "cell_type": "code",
      "metadata": {
        "colab": {
          "base_uri": "https://localhost:8080/"
        },
        "id": "6CShGjhpySYE",
        "outputId": "ab87b5e7-2393-4065-bc74-2646d7997c82"
      },
      "source": [
        "outliers_vector = (dt_corruption < (lower_bound)) | (dt_corruption > (upper_bound))\n",
        "outliers_vector = dt_corruption[outliers_vector]\n",
        "outliers_vector.index.values"
      ],
      "execution_count": null,
      "outputs": [
        {
          "output_type": "execute_result",
          "data": {
            "text/plain": [
              "array([  1,   2,   3,   4,   5,   6,   7,   9,  11,  12,  13,  14,  15,\n",
              "        16,  17,  18,  19,  20,  24,  25,  26,  33,  34,  37,  38,  39,\n",
              "        40,  41,  42,  43,  44,  45,  46,  47,  48,  49,  50,  51,  52,\n",
              "        53,  54,  55,  56,  57,  58,  65,  75,  76,  77,  78,  79,  80,\n",
              "        81,  82,  83,  84,  85,  86,  87,  88,  91,  94, 102, 111, 112,\n",
              "       113, 114, 115, 116, 117, 118, 119, 123, 124, 125, 126, 127, 128,\n",
              "       129, 130, 131, 132, 133, 134, 135, 137, 138, 139, 140, 141, 142,\n",
              "       143, 144, 145, 146, 147, 148, 149, 150, 151, 152, 153, 154, 155,\n",
              "       159, 162, 164])"
            ]
          },
          "metadata": {
            "tags": []
          },
          "execution_count": 13
        }
      ]
    },
    {
      "cell_type": "code",
      "metadata": {
        "id": "I1X6SCGhFMcR"
      },
      "source": [
        "dt.drop(index=outliers_vector.index.values,inplace=True)\n",
        "dt"
      ],
      "execution_count": null,
      "outputs": []
    },
    {
      "cell_type": "markdown",
      "metadata": {
        "id": "FpAVjv-WGrVm"
      },
      "source": [
        "Корреляционная матрица, которая позволяет увидеть зависимость признаков друг от друга. Самая большая зависимость оказалась между Price и Exchange.\n"
      ]
    },
    {
      "cell_type": "code",
      "metadata": {
        "colab": {
          "base_uri": "https://localhost:8080/",
          "height": 486
        },
        "id": "GXzeCqFgGAGf",
        "outputId": "3965b935-1d10-45c6-9b32-3916b6f5fabf"
      },
      "source": [
        "plt.figure(figsize = (10, 8))\n",
        "sns.heatmap(dt.corr(), annot = True, linewidths=.5, cmap = 'Reds')\n",
        "plt.show()"
      ],
      "execution_count": null,
      "outputs": [
        {
          "output_type": "display_data",
          "data": {
            "image/png": "[encoded data removed]",
            "text/plain": [
              "<Figure size 720x576 with 2 Axes>"
            ]
          },
          "metadata": {
            "tags": [],
            "needs_background": "light"
          }
        }
      ]
    },
    {
      "cell_type": "code",
      "metadata": {
        "colab": {
          "base_uri": "https://localhost:8080/"
        },
        "id": "-9EEjHh7ySYG",
        "outputId": "bef0ccf3-1eeb-4ff4-d4f6-49da8b5a90d2"
      },
      "source": [
        "numerical_columns = dt.columns[dt.dtypes != 'object'].drop(['price' ,'date_x'])\n",
        "numerical_columns"
      ],
      "execution_count": null,
      "outputs": [
        {
          "output_type": "execute_result",
          "data": {
            "text/plain": [
              "Index([u'volume', u'exchange', u'keyrate', u'inf', u'dob'], dtype='object')"
            ]
          },
          "metadata": {
            "tags": []
          },
          "execution_count": 17
        }
      ]
    },
    {
      "cell_type": "markdown",
      "metadata": {
        "id": "myDzNp6kySYQ"
      },
      "source": [
        "## 4. Расчет цены нефти по внешним факторам"
      ]
    },
    {
      "cell_type": "markdown",
      "metadata": {
        "id": "PGJ7l8pZySYQ"
      },
      "source": [
        "Так как между Price и Exchange был самый большой коэффициент корреляции, то попробуем начала построить парную регрессию между этими параметрами."
      ]
    },
    {
      "cell_type": "code",
      "metadata": {
        "colab": {
          "base_uri": "https://localhost:8080/",
          "height": 441
        },
        "id": "5okkvxoqySYR",
        "outputId": "093d2106-83d9-4e43-dd8a-787d6e4509fc"
      },
      "source": [
        "sns.jointplot(x=\"price\",y=\"exchange\",data=dt,kind=\"reg\")\n",
        "plt.show()"
      ],
      "execution_count": null,
      "outputs": [
        {
          "output_type": "display_data",
          "data": {
            "image/png": "[encoded data removed]",
            "text/plain": [
              "<Figure size 432x432 with 3 Axes>"
            ]
          },
          "metadata": {
            "tags": [],
            "needs_background": "light"
          }
        }
      ]
    },
    {
      "cell_type": "code",
      "metadata": {
        "colab": {
          "base_uri": "https://localhost:8080/"
        },
        "id": "ossuSuWDySYS",
        "outputId": "265b28f9-6c22-4c95-8be4-3fd8922dcd4b"
      },
      "source": [
        "from sklearn.linear_model import LinearRegression\n",
        "from sklearn.metrics import mean_squared_error\n",
        "X = np.array(dt['exchange'])\n",
        "y = np.array(dt['price'])\n",
        "reg = LinearRegression()\n",
        "model = reg.fit(X.reshape(-1,1),y)\n",
        "print('Intercept = '+ str(model.intercept_))\n",
        "print('Коэффицент регрессии = '+ str(model.coef_[0]))\n",
        "print('R^2 = '+str(model.score(X.reshape(-1,1),y)))\n",
        "print('MSE='+str(mean_squared_error(X.reshape(-1,1),y)))\n"
      ],
      "execution_count": null,
      "outputs": [
        {
          "output_type": "stream",
          "text": [
            "Intercept = 150.57745028868743\n",
            "Коэффицент регрессии = -1.47507277627584\n",
            "R^2 = 0.6443095727232073\n",
            "MSE=673.7501150743899\n"
          ],
          "name": "stdout"
        }
      ]
    },
    {
      "cell_type": "markdown",
      "metadata": {
        "id": "l5NXy2eWySYS"
      },
      "source": [
        "Так как rscore достаточно низкий, построим множественную регрессию"
      ]
    },
    {
      "cell_type": "code",
      "metadata": {
        "id": "qYhIvnl3ySYT"
      },
      "source": [
        "X = dt.drop(['ticker','price','date_x'], axis=1).get_values()\n",
        "y = dt['price'].get_values()"
      ],
      "execution_count": null,
      "outputs": []
    },
    {
      "cell_type": "code",
      "metadata": {
        "colab": {
          "base_uri": "https://localhost:8080/"
        },
        "id": "3iLwOubaySYT",
        "outputId": "895a7c70-8a64-48ef-929a-346d2dedb0e0"
      },
      "source": [
        "import statsmodels.api as sm\n",
        "\n",
        "#линейная регрессия\n",
        "est = sm.OLS(y, X)\n",
        "est = est.fit()\n",
        "print(est.summary())\n"
      ],
      "execution_count": null,
      "outputs": [
        {
          "output_type": "stream",
          "text": [
            "                                 OLS Regression Results                                \n",
            "=======================================================================================\n",
            "Dep. Variable:                      y   R-squared (uncentered):                   0.980\n",
            "Model:                            OLS   Adj. R-squared (uncentered):              0.980\n",
            "Method:                 Least Squares   F-statistic:                          1.160e+04\n",
            "Date:                Thu, 22 Apr 2021   Prob (F-statistic):                        0.00\n",
            "Time:                        11:49:08   Log-Likelihood:                         -4270.7\n",
            "No. Observations:                1180   AIC:                                      8551.\n",
            "Df Residuals:                    1175   BIC:                                      8577.\n",
            "Df Model:                           5                                                  \n",
            "Covariance Type:            nonrobust                                                  \n",
            "==============================================================================\n",
            "                 coef    std err          t      P>|t|      [0.025      0.975]\n",
            "------------------------------------------------------------------------------\n",
            "x1            -0.0130      0.005     -2.445      0.015      -0.023      -0.003\n",
            "x2            -1.4214      0.032    -44.573      0.000      -1.484      -1.359\n",
            "x3            -2.1261      0.125    -17.058      0.000      -2.371      -1.882\n",
            "x4             1.3002      0.078     16.670      0.000       1.147       1.453\n",
            "x5             0.0008      0.000      4.847      0.000       0.000       0.001\n",
            "==============================================================================\n",
            "Omnibus:                       43.127   Durbin-Watson:                   0.046\n",
            "Prob(Omnibus):                  0.000   Jarque-Bera (JB):               50.167\n",
            "Skew:                           0.423   Prob(JB):                     1.28e-11\n",
            "Kurtosis:                       3.553   Cond. No.                     2.29e+04\n",
            "==============================================================================\n",
            "\n",
            "Warnings:\n",
            "[1] Standard Errors assume that the covariance matrix of the errors is correctly specified.\n",
            "[2] The condition number is large, 2.29e+04. This might indicate that there are\n",
            "strong multicollinearity or other numerical problems.\n"
          ],
          "name": "stdout"
        }
      ]
    },
    {
      "cell_type": "code",
      "metadata": {
        "colab": {
          "base_uri": "https://localhost:8080/"
        },
        "id": "fZ5kE7_TySYV",
        "outputId": "cc9dd06d-2200-4cd1-f621-9d9532310e4f"
      },
      "source": [
        "print ('R^2 = '+str(est.rsquared))"
      ],
      "execution_count": null,
      "outputs": [
        {
          "output_type": "stream",
          "text": [
            "R^2 = 0.9801384053187657\n"
          ],
          "name": "stdout"
        }
      ]
    },
    {
      "cell_type": "code",
      "metadata": {
        "colab": {
          "base_uri": "https://localhost:8080/"
        },
        "id": "I0GEyBaAJS3t",
        "outputId": "50f677ec-4e33-4e93-98c2-7b96ebf2d155"
      },
      "source": [
        "from sklearn.metrics import mean_squared_error\n",
        "MSE=est.mse_resid\n",
        "print('MSE='+str(MSE))"
      ],
      "execution_count": null,
      "outputs": [
        {
          "output_type": "stream",
          "text": [
            "MSE=81.83995883627536\n"
          ],
          "name": "stdout"
        }
      ]
    },
    {
      "cell_type": "code",
      "metadata": {
        "colab": {
          "base_uri": "https://localhost:8080/",
          "height": 204
        },
        "id": "OZTNRGphySYW",
        "outputId": "507a2930-8ae9-4c7e-aa56-342edc80cfc9"
      },
      "source": [
        "results_ols = pd.DataFrame()\n",
        "results_ols['feature'] = ['volume','exchange','keyrate','inf','dob']\n",
        "results_ols['coefs'] = est.params\n",
        "results_ols"
      ],
      "execution_count": null,
      "outputs": [
        {
          "output_type": "execute_result",
          "data": {
            "text/plain": [
              "    feature   coefs\n",
              "0    volume -0.0125\n",
              "1  exchange -1.4841\n",
              "2   keyrate -2.2327\n",
              "3       inf  1.4374\n",
              "4       dob  0.0006"
            ],
            "text/html": [
              "<div>\n",
              "<style scoped>\n",
              "    .dataframe tbody tr th:only-of-type {\n",
              "        vertical-align: middle;\n",
              "    }\n",
              "\n",
              "    .dataframe tbody tr th {\n",
              "        vertical-align: top;\n",
              "    }\n",
              "\n",
              "    .dataframe thead th {\n",
              "        text-align: right;\n",
              "    }\n",
              "</style>\n",
              "<table border=\"1\" class=\"dataframe\">\n",
              "  <thead>\n",
              "    <tr style=\"text-align: right;\">\n",
              "      <th></th>\n",
              "      <th>feature</th>\n",
              "      <th>coefs</th>\n",
              "    </tr>\n",
              "  </thead>\n",
              "  <tbody>\n",
              "    <tr>\n",
              "      <th>0</th>\n",
              "      <td>volume</td>\n",
              "      <td>-0.0125</td>\n",
              "    </tr>\n",
              "    <tr>\n",
              "      <th>1</th>\n",
              "      <td>exchange</td>\n",
              "      <td>-1.4841</td>\n",
              "    </tr>\n",
              "    <tr>\n",
              "      <th>2</th>\n",
              "      <td>keyrate</td>\n",
              "      <td>-2.2327</td>\n",
              "    </tr>\n",
              "    <tr>\n",
              "      <th>3</th>\n",
              "      <td>inf</td>\n",
              "      <td>1.4374</td>\n",
              "    </tr>\n",
              "    <tr>\n",
              "      <th>4</th>\n",
              "      <td>dob</td>\n",
              "      <td>0.0006</td>\n",
              "    </tr>\n",
              "  </tbody>\n",
              "</table>\n",
              "</div>"
            ]
          },
          "metadata": {
            "tags": []
          },
          "execution_count": 74
        }
      ]
    },
    {
      "cell_type": "markdown",
      "metadata": {
        "id": "7CFPaMJUySYX"
      },
      "source": [
        "## Лассо"
      ]
    },
    {
      "cell_type": "code",
      "metadata": {
        "id": "3752KTMXySYX"
      },
      "source": [
        "from sklearn.linear_model import LinearRegression, Lasso, Ridge\n",
        "from sklearn.linear_model import LassoCV, RidgeCV"
      ],
      "execution_count": null,
      "outputs": []
    },
    {
      "cell_type": "code",
      "metadata": {
        "id": "Df3-ezDHySYY"
      },
      "source": [
        "X_train, X_test, y_train, y_test = train_test_split(X, y, test_size=0.33, random_state=42)\n",
        "lasso_model = Lasso().fit(X_train,y_train)\n",
        "pred=lasso_model.predict(X_test)"
      ],
      "execution_count": null,
      "outputs": []
    },
    {
      "cell_type": "code",
      "metadata": {
        "colab": {
          "base_uri": "https://localhost:8080/"
        },
        "id": "ptSmYW5eySYZ",
        "outputId": "67a22bd8-619c-4543-e087-bb0d60fea7b8"
      },
      "source": [
        "print('R^2='+str(lasso_model.score(X,y)))"
      ],
      "execution_count": null,
      "outputs": [
        {
          "output_type": "stream",
          "text": [
            "R^2=0.7284355684407793\n"
          ],
          "name": "stdout"
        }
      ]
    },
    {
      "cell_type": "code",
      "metadata": {
        "colab": {
          "base_uri": "https://localhost:8080/"
        },
        "id": "B4-CILtyK3cn",
        "outputId": "0857c527-0b4e-4d3a-8ae7-57fc0030686b"
      },
      "source": [
        "MSE=mean_squared_error(y_test,pred)\n",
        "print('MSE='+str(MSE))"
      ],
      "execution_count": null,
      "outputs": [
        {
          "output_type": "stream",
          "text": [
            "MSE=81.03083907466383\n"
          ],
          "name": "stdout"
        }
      ]
    },
    {
      "cell_type": "markdown",
      "metadata": {
        "id": "cZCWHKDGySYa"
      },
      "source": [
        "## Ридж "
      ]
    },
    {
      "cell_type": "code",
      "metadata": {
        "colab": {
          "base_uri": "https://localhost:8080/"
        },
        "id": "xWPSv1WhySYb",
        "outputId": "d650d6ea-9725-43be-cbce-0413e75e03ae"
      },
      "source": [
        "from sklearn.model_selection import train_test_split\n",
        "X_train, X_test, y_train, y_test = train_test_split(X, y, test_size=0.2, random_state=42)\n",
        "ridge_model = Ridge(alpha=0.1).fit(X_train, y_train)\n",
        "ridge_model"
      ],
      "execution_count": null,
      "outputs": [
        {
          "output_type": "execute_result",
          "data": {
            "text/plain": [
              "Ridge(alpha=0.1, copy_X=True, fit_intercept=True, max_iter=None,\n",
              "   normalize=False, random_state=None, solver='auto', tol=0.001)"
            ]
          },
          "metadata": {
            "tags": []
          },
          "execution_count": 37
        }
      ]
    },
    {
      "cell_type": "code",
      "metadata": {
        "colab": {
          "base_uri": "https://localhost:8080/"
        },
        "id": "EdEa6g3cySYd",
        "outputId": "f9fd5331-5856-47eb-9245-96d5d958af6f"
      },
      "source": [
        "ridge_model.score(X,y)\n",
        "print('R^2='+str(ridge_model.score(X,y)))"
      ],
      "execution_count": null,
      "outputs": [
        {
          "output_type": "stream",
          "text": [
            "R^2=0.7447092290144955\n"
          ],
          "name": "stdout"
        }
      ]
    },
    {
      "cell_type": "code",
      "metadata": {
        "colab": {
          "base_uri": "https://localhost:8080/",
          "height": 204
        },
        "id": "gPu3ZYbmySYd",
        "outputId": "c9065913-5ad1-46cc-9e4d-5e0e5940d639"
      },
      "source": [
        "results_ridge = pd.DataFrame()\n",
        "results_ridge['feature'] = dt.columns[dt.dtypes != 'object'].drop(['price' ,'date_x'])\n",
        "results_ridge['coefs'] = ridge_model.coef_\n",
        "results_ridge"
      ],
      "execution_count": null,
      "outputs": [
        {
          "output_type": "execute_result",
          "data": {
            "text/plain": [
              "    feature  coefs\n",
              "0    volume   -0.0\n",
              "1  exchange   -1.4\n",
              "2   keyrate   -2.5\n",
              "3       inf    4.3\n",
              "4       dob    0.0"
            ],
            "text/html": [
              "<div>\n",
              "<style scoped>\n",
              "    .dataframe tbody tr th:only-of-type {\n",
              "        vertical-align: middle;\n",
              "    }\n",
              "\n",
              "    .dataframe tbody tr th {\n",
              "        vertical-align: top;\n",
              "    }\n",
              "\n",
              "    .dataframe thead th {\n",
              "        text-align: right;\n",
              "    }\n",
              "</style>\n",
              "<table border=\"1\" class=\"dataframe\">\n",
              "  <thead>\n",
              "    <tr style=\"text-align: right;\">\n",
              "      <th></th>\n",
              "      <th>feature</th>\n",
              "      <th>coefs</th>\n",
              "    </tr>\n",
              "  </thead>\n",
              "  <tbody>\n",
              "    <tr>\n",
              "      <th>0</th>\n",
              "      <td>volume</td>\n",
              "      <td>-0.0</td>\n",
              "    </tr>\n",
              "    <tr>\n",
              "      <th>1</th>\n",
              "      <td>exchange</td>\n",
              "      <td>-1.4</td>\n",
              "    </tr>\n",
              "    <tr>\n",
              "      <th>2</th>\n",
              "      <td>keyrate</td>\n",
              "      <td>-2.5</td>\n",
              "    </tr>\n",
              "    <tr>\n",
              "      <th>3</th>\n",
              "      <td>inf</td>\n",
              "      <td>4.3</td>\n",
              "    </tr>\n",
              "    <tr>\n",
              "      <th>4</th>\n",
              "      <td>dob</td>\n",
              "      <td>0.0</td>\n",
              "    </tr>\n",
              "  </tbody>\n",
              "</table>\n",
              "</div>"
            ]
          },
          "metadata": {
            "tags": []
          },
          "execution_count": 39
        }
      ]
    },
    {
      "cell_type": "code",
      "metadata": {
        "colab": {
          "base_uri": "https://localhost:8080/"
        },
        "id": "RLhyKAytySYf",
        "outputId": "864e871f-b1c2-4f20-beec-a73cf1ae75d0"
      },
      "source": [
        "ridge_model = Ridge().fit(X_train,y_train)\n",
        "\n",
        "y_pred = ridge_model.predict(X_train)\n",
        "\n",
        "print(\"predict: \", y_pred[0:10])\n",
        "print(\"real: \", y_train[0:10])"
      ],
      "execution_count": null,
      "outputs": [
        {
          "output_type": "stream",
          "text": [
            "('predict: ', array([ 55.26029727,  65.86545368,  66.09926403,  45.8147452 ,\n",
            "        33.29644191, 101.94865675,  60.83167681,  49.45600037,\n",
            "        70.21313814,  74.63324151]))\n",
            "('real: ', array([ 49.58,  52.5 ,  62.86,  49.29,  33.12, 106.57,  61.31,  50.96,\n",
            "        68.52,  61.92]))\n"
          ],
          "name": "stdout"
        }
      ]
    },
    {
      "cell_type": "code",
      "metadata": {
        "colab": {
          "base_uri": "https://localhost:8080/"
        },
        "id": "1IImfmZsySYg",
        "outputId": "a6fb70a3-abba-4b98-d340-fec07a1b64ce"
      },
      "source": [
        "y_pred = ridge_model.predict(X_test)\n",
        "MSEtest = (mean_squared_error(y_test,y_pred))\n",
        "print(\"test error: \", MSEtest)"
      ],
      "execution_count": null,
      "outputs": [
        {
          "output_type": "stream",
          "text": [
            "('test error: ', 88.02851431629837)\n"
          ],
          "name": "stdout"
        }
      ]
    },
    {
      "cell_type": "code",
      "metadata": {
        "id": "CWGuUqoXySYi"
      },
      "source": [
        "from sklearn.metrics import make_scorer\n",
        "from sklearn.metrics import mean_squared_error\n",
        "from sklearn.model_selection import GridSearchCV\n",
        "from sklearn.model_selection import train_test_split\n",
        "\n",
        "\n",
        "def train_validate_model(model, X,y , grid_search_params):\n",
        "       \n",
        "    X_train, X_test, y_train, y_test = train_test_split(X,y,train_size = 0.8, random_state = 123)\n",
        "    \n",
        "    model_grid = GridSearchCV(model, \n",
        "                              grid_search_params,\n",
        "                              scoring = make_scorer(mean_squared_error), # Установка метрики по которой будут сравниваться модели\n",
        "                              cv=5, n_jobs=-1,verbose= 0)\n",
        "    \n",
        "    model_grid.fit(X_train, y_train)\n",
        "\n",
        "    # Переменные для вывода и для сохранения\n",
        "    model_type = str(type(model)).split('.')[-1].replace(\"'>\",'') # Выделение названия модели из type(model)\n",
        "\n",
        "    model_info = {\n",
        "        'model': model_type,\n",
        "        'MSE' : model_grid.best_score_,\n",
        "        'Best params': model_grid.best_params_\n",
        "        }\n",
        "\n",
        "    print('Тип модели: ', model_type)\n",
        "    print('MSE: {}'.format(model_grid.best_score_))\n",
        "    print('Best params: ',model_grid.best_params_)\n",
        "    print('-----------------------------------\\n')\n",
        "    return model_grid.best_estimator_, model_info"
      ],
      "execution_count": null,
      "outputs": []
    },
    {
      "cell_type": "code",
      "metadata": {
        "id": "TYsfdxNaySYj"
      },
      "source": [
        "from sklearn.tree import DecisionTreeRegressor\n",
        "from sklearn.ensemble import RandomForestRegressor\n",
        "\n",
        "dectree = DecisionTreeRegressor()\n",
        "randfor = RandomForestRegressor()\n",
        "\n",
        "dectree_params = {'min_samples_split':np.arange(2,20)}\n",
        "randfor_params = {'min_samples_split':np.arange(2,20)}\n",
        "\n",
        "models = [(dectree, dectree_params), (randfor, randfor_params)]"
      ],
      "execution_count": null,
      "outputs": []
    },
    {
      "cell_type": "code",
      "metadata": {
        "colab": {
          "base_uri": "https://localhost:8080/"
        },
        "id": "qb3IMBk3ySYj",
        "outputId": "c9150e0a-b3ea-4b89-9bf0-4dffc53c3da7"
      },
      "source": [
        "model_info = []\n",
        "estimators = []\n",
        "for model in models:\n",
        "    estimator, info = train_validate_model(model[0], X, y, model[1])\n",
        "    model_info.append(info)\n",
        "    estimators.append(estimator)"
      ],
      "execution_count": null,
      "outputs": [
        {
          "output_type": "stream",
          "text": [
            "/usr/local/lib/python2.7/dist-packages/sklearn/model_selection/_split.py:2179: FutureWarning: From version 0.21, test_size will always complement train_size unless both are specified.\n",
            "  FutureWarning)\n",
            "/usr/local/lib/python2.7/dist-packages/sklearn/model_selection/_search.py:841: DeprecationWarning: The default of the `iid` parameter will change from True to False in version 0.22 and will be removed in 0.24. This will change numeric results when test-set sizes are unequal.\n",
            "  DeprecationWarning)\n"
          ],
          "name": "stderr"
        },
        {
          "output_type": "stream",
          "text": [
            "('\\xd0\\xa2\\xd0\\xb8\\xd0\\xbf \\xd0\\xbc\\xd0\\xbe\\xd0\\xb4\\xd0\\xb5\\xd0\\xbb\\xd0\\xb8: ', 'DecisionTreeRegressor')\n",
            "MSE: 9.02231917373\n",
            "('Best params: ', {'min_samples_split': 2})\n",
            "-----------------------------------\n",
            "\n",
            "('\\xd0\\xa2\\xd0\\xb8\\xd0\\xbf \\xd0\\xbc\\xd0\\xbe\\xd0\\xb4\\xd0\\xb5\\xd0\\xbb\\xd0\\xb8: ', 'RandomForestRegressor')\n",
            "MSE: 8.64155497214\n",
            "('Best params: ', {'min_samples_split': 17})\n",
            "-----------------------------------\n",
            "\n"
          ],
          "name": "stdout"
        },
        {
          "output_type": "stream",
          "text": [
            "/usr/local/lib/python2.7/dist-packages/sklearn/model_selection/_search.py:841: DeprecationWarning: The default of the `iid` parameter will change from True to False in version 0.22 and will be removed in 0.24. This will change numeric results when test-set sizes are unequal.\n",
            "  DeprecationWarning)\n",
            "/usr/local/lib/python2.7/dist-packages/sklearn/ensemble/forest.py:246: FutureWarning: The default value of n_estimators will change from 10 in version 0.20 to 100 in 0.22.\n",
            "  \"10 in version 0.20 to 100 in 0.22.\", FutureWarning)\n"
          ],
          "name": "stderr"
        }
      ]
    },
    {
      "cell_type": "code",
      "metadata": {
        "id": "LeLx-PJiySYk"
      },
      "source": [
        ""
      ],
      "execution_count": null,
      "outputs": []
    }
  ]
}