{
  "nbformat": 4,
  "nbformat_minor": 0,
  "metadata": {
    "kernelspec": {
      "display_name": "Python 2",
      "language": "python",
      "name": "python2"
    },
    "language_info": {
      "codemirror_mode": {
        "name": "ipython",
        "version": 2
      },
      "file_extension": ".py",
      "mimetype": "text/x-python",
      "name": "python",
      "nbconvert_exporter": "python",
      "pygments_lexer": "ipython2",
      "version": "2.7.16"
    },
    "colab": {
      "name": "Oil_prediction.ipynb",
      "provenance": []
    }
  },
  "cells": [
    {
      "cell_type": "markdown",
      "metadata": {
        "id": "ey7xHGI3ySXw"
      },
      "source": [
        "## 1. Импорт библиотек и загрузка данных"
      ]
    },
    {
      "cell_type": "code",
      "metadata": {
        "id": "9i-UyZF3ySXz"
      },
      "source": [
        "#загрузка необходимых библиотек\n",
        "import requests\n",
        "from bs4 import BeautifulSoup\n",
        "import csv\n",
        "import pandas as pd\n",
        "import numpy as np\n",
        "import matplotlib.pyplot as plt\n",
        "import seaborn as sns\n",
        "import matplotlib\n",
        "from sklearn.model_selection import train_test_split\n",
        "from sklearn import preprocessing\n",
        "from sklearn.cluster import KMeans\n",
        "from scipy.cluster.hierarchy import dendrogram, linkage, fcluster\n",
        "matplotlib.style.use('ggplot')\n",
        "%matplotlib inline \n",
        "pd.set_option('display.float_format', lambda x: '%.1f' % x)\n",
        "from datetime import datetime"
      ],
      "execution_count": null,
      "outputs": []
    },
    {
      "cell_type": "code",
      "metadata": {
        "scrolled": false,
        "colab": {
          "base_uri": "https://localhost:8080/",
          "height": 359
        },
        "id": "A6tdHFkXySX1",
        "outputId": "970f85e1-9d3d-4155-e2eb-c3108aeb98f5"
      },
      "source": [
        "brent = pd.read_csv('Brent.csv', sep=(';') , decimal=',', header=0)\n",
        "brent.columns=['ticker','m','date','a','price','volume','d','d']\n",
        "brent=brent.drop(['m','a','d','d'], axis=1)\n",
        "brent['date']=brent['date'].apply(str)\n",
        "brent['date']=brent['date'].apply(lambda x: datetime(int(x[:4]),int(x[4:6]),int(x[6:])) )\n",
        "brent.tail(10)"
      ],
      "execution_count": null,
      "outputs": [
        {
          "output_type": "execute_result",
          "data": {
            "text/plain": [
              "       ticker       date  price  volume\n",
              "2337  ICE,BRN 2021-04-09   63.0   117.8\n",
              "2338  ICE,BRN 2021-04-11   63.3     1.4\n",
              "2339  ICE,BRN 2021-04-12   63.2   162.6\n",
              "2340  ICE,BRN 2021-04-13   64.0   139.6\n",
              "2341  ICE,BRN 2021-04-14   66.3   201.4\n",
              "2342  ICE,BRN 2021-04-15   66.8   136.3\n",
              "2343  ICE,BRN 2021-04-16   66.7   114.3\n",
              "2344  ICE,BRN 2021-04-18   66.4     2.2\n",
              "2345  ICE,BRN 2021-04-19   67.2   111.0\n",
              "2346  ICE,BRN 2021-04-20   66.5   192.0"
            ],
            "text/html": [
              "<div>\n",
              "<style scoped>\n",
              "    .dataframe tbody tr th:only-of-type {\n",
              "        vertical-align: middle;\n",
              "    }\n",
              "\n",
              "    .dataframe tbody tr th {\n",
              "        vertical-align: top;\n",
              "    }\n",
              "\n",
              "    .dataframe thead th {\n",
              "        text-align: right;\n",
              "    }\n",
              "</style>\n",
              "<table border=\"1\" class=\"dataframe\">\n",
              "  <thead>\n",
              "    <tr style=\"text-align: right;\">\n",
              "      <th></th>\n",
              "      <th>ticker</th>\n",
              "      <th>date</th>\n",
              "      <th>price</th>\n",
              "      <th>volume</th>\n",
              "    </tr>\n",
              "  </thead>\n",
              "  <tbody>\n",
              "    <tr>\n",
              "      <th>2337</th>\n",
              "      <td>ICE,BRN</td>\n",
              "      <td>2021-04-09</td>\n",
              "      <td>63.0</td>\n",
              "      <td>117.8</td>\n",
              "    </tr>\n",
              "    <tr>\n",
              "      <th>2338</th>\n",
              "      <td>ICE,BRN</td>\n",
              "      <td>2021-04-11</td>\n",
              "      <td>63.3</td>\n",
              "      <td>1.4</td>\n",
              "    </tr>\n",
              "    <tr>\n",
              "      <th>2339</th>\n",
              "      <td>ICE,BRN</td>\n",
              "      <td>2021-04-12</td>\n",
              "      <td>63.2</td>\n",
              "      <td>162.6</td>\n",
              "    </tr>\n",
              "    <tr>\n",
              "      <th>2340</th>\n",
              "      <td>ICE,BRN</td>\n",
              "      <td>2021-04-13</td>\n",
              "      <td>64.0</td>\n",
              "      <td>139.6</td>\n",
              "    </tr>\n",
              "    <tr>\n",
              "      <th>2341</th>\n",
              "      <td>ICE,BRN</td>\n",
              "      <td>2021-04-14</td>\n",
              "      <td>66.3</td>\n",
              "      <td>201.4</td>\n",
              "    </tr>\n",
              "    <tr>\n",
              "      <th>2342</th>\n",
              "      <td>ICE,BRN</td>\n",
              "      <td>2021-04-15</td>\n",
              "      <td>66.8</td>\n",
              "      <td>136.3</td>\n",
              "    </tr>\n",
              "    <tr>\n",
              "      <th>2343</th>\n",
              "      <td>ICE,BRN</td>\n",
              "      <td>2021-04-16</td>\n",
              "      <td>66.7</td>\n",
              "      <td>114.3</td>\n",
              "    </tr>\n",
              "    <tr>\n",
              "      <th>2344</th>\n",
              "      <td>ICE,BRN</td>\n",
              "      <td>2021-04-18</td>\n",
              "      <td>66.4</td>\n",
              "      <td>2.2</td>\n",
              "    </tr>\n",
              "    <tr>\n",
              "      <th>2345</th>\n",
              "      <td>ICE,BRN</td>\n",
              "      <td>2021-04-19</td>\n",
              "      <td>67.2</td>\n",
              "      <td>111.0</td>\n",
              "    </tr>\n",
              "    <tr>\n",
              "      <th>2346</th>\n",
              "      <td>ICE,BRN</td>\n",
              "      <td>2021-04-20</td>\n",
              "      <td>66.5</td>\n",
              "      <td>192.0</td>\n",
              "    </tr>\n",
              "  </tbody>\n",
              "</table>\n",
              "</div>"
            ]
          },
          "metadata": {
            "tags": []
          },
          "execution_count": 29
        }
      ]
    },
    {
      "cell_type": "code",
      "metadata": {
        "colab": {
          "base_uri": "https://localhost:8080/",
          "height": 359
        },
        "id": "cPZh3LMXymbN",
        "outputId": "6097ce1e-b76e-4460-c696-afb96372a53e"
      },
      "source": [
        "inf = pd.read_excel('INF.xlsx',sep=(';') ,header=0)\n",
        "inf.columns=['date','inf']\n",
        "inf['date']=pd.to_datetime(inf['date'])\n",
        "inf['month']=inf.date.apply(lambda x:datetime(x.year, x.month,1))\n",
        "inf.tail(10)"
      ],
      "execution_count": null,
      "outputs": [
        {
          "output_type": "execute_result",
          "data": {
            "text/plain": [
              "         date   inf      month\n",
              "67 2019-04-01 100.3 2019-04-01\n",
              "68 2019-05-01 100.3 2019-05-01\n",
              "69 2019-06-01 100.0 2019-06-01\n",
              "70 2019-07-01 100.2 2019-07-01\n",
              "71 2019-08-01  99.8 2019-08-01\n",
              "72 2019-09-01  99.8 2019-09-01\n",
              "73 2019-10-01 100.1 2019-10-01\n",
              "74 2019-11-01 100.3 2019-11-01\n",
              "75 2019-12-01 100.4 2019-12-01\n",
              "76 2020-01-01 100.4 2020-01-01"
            ],
            "text/html": [
              "<div>\n",
              "<style scoped>\n",
              "    .dataframe tbody tr th:only-of-type {\n",
              "        vertical-align: middle;\n",
              "    }\n",
              "\n",
              "    .dataframe tbody tr th {\n",
              "        vertical-align: top;\n",
              "    }\n",
              "\n",
              "    .dataframe thead th {\n",
              "        text-align: right;\n",
              "    }\n",
              "</style>\n",
              "<table border=\"1\" class=\"dataframe\">\n",
              "  <thead>\n",
              "    <tr style=\"text-align: right;\">\n",
              "      <th></th>\n",
              "      <th>date</th>\n",
              "      <th>inf</th>\n",
              "      <th>month</th>\n",
              "    </tr>\n",
              "  </thead>\n",
              "  <tbody>\n",
              "    <tr>\n",
              "      <th>67</th>\n",
              "      <td>2019-04-01</td>\n",
              "      <td>100.3</td>\n",
              "      <td>2019-04-01</td>\n",
              "    </tr>\n",
              "    <tr>\n",
              "      <th>68</th>\n",
              "      <td>2019-05-01</td>\n",
              "      <td>100.3</td>\n",
              "      <td>2019-05-01</td>\n",
              "    </tr>\n",
              "    <tr>\n",
              "      <th>69</th>\n",
              "      <td>2019-06-01</td>\n",
              "      <td>100.0</td>\n",
              "      <td>2019-06-01</td>\n",
              "    </tr>\n",
              "    <tr>\n",
              "      <th>70</th>\n",
              "      <td>2019-07-01</td>\n",
              "      <td>100.2</td>\n",
              "      <td>2019-07-01</td>\n",
              "    </tr>\n",
              "    <tr>\n",
              "      <th>71</th>\n",
              "      <td>2019-08-01</td>\n",
              "      <td>99.8</td>\n",
              "      <td>2019-08-01</td>\n",
              "    </tr>\n",
              "    <tr>\n",
              "      <th>72</th>\n",
              "      <td>2019-09-01</td>\n",
              "      <td>99.8</td>\n",
              "      <td>2019-09-01</td>\n",
              "    </tr>\n",
              "    <tr>\n",
              "      <th>73</th>\n",
              "      <td>2019-10-01</td>\n",
              "      <td>100.1</td>\n",
              "      <td>2019-10-01</td>\n",
              "    </tr>\n",
              "    <tr>\n",
              "      <th>74</th>\n",
              "      <td>2019-11-01</td>\n",
              "      <td>100.3</td>\n",
              "      <td>2019-11-01</td>\n",
              "    </tr>\n",
              "    <tr>\n",
              "      <th>75</th>\n",
              "      <td>2019-12-01</td>\n",
              "      <td>100.4</td>\n",
              "      <td>2019-12-01</td>\n",
              "    </tr>\n",
              "    <tr>\n",
              "      <th>76</th>\n",
              "      <td>2020-01-01</td>\n",
              "      <td>100.4</td>\n",
              "      <td>2020-01-01</td>\n",
              "    </tr>\n",
              "  </tbody>\n",
              "</table>\n",
              "</div>"
            ]
          },
          "metadata": {
            "tags": []
          },
          "execution_count": 30
        }
      ]
    },
    {
      "cell_type": "code",
      "metadata": {
        "colab": {
          "base_uri": "https://localhost:8080/",
          "height": 359
        },
        "id": "JiSsMY3PzDVL",
        "outputId": "8ca85623-ee5f-403e-8f18-c7888c3c2dab"
      },
      "source": [
        "keyrate = pd.read_excel('keyrate.xlsx',sep=(';') ,header=0)\n",
        "keyrate.columns=['date','keyrate']\n",
        "keyrate['date']=pd.to_datetime(keyrate['date'])\n",
        "keyrate.head(10)"
      ],
      "execution_count": null,
      "outputs": [
        {
          "output_type": "execute_result",
          "data": {
            "text/plain": [
              "        date  keyrate\n",
              "0 2021-04-20      4.5\n",
              "1 2021-04-19      4.5\n",
              "2 2021-04-16      4.5\n",
              "3 2021-04-15      4.5\n",
              "4 2021-04-14      4.5\n",
              "5 2021-04-13      4.5\n",
              "6 2021-04-12      4.5\n",
              "7 2021-04-09      4.5\n",
              "8 2021-04-08      4.5\n",
              "9 2021-04-07      4.5"
            ],
            "text/html": [
              "<div>\n",
              "<style scoped>\n",
              "    .dataframe tbody tr th:only-of-type {\n",
              "        vertical-align: middle;\n",
              "    }\n",
              "\n",
              "    .dataframe tbody tr th {\n",
              "        vertical-align: top;\n",
              "    }\n",
              "\n",
              "    .dataframe thead th {\n",
              "        text-align: right;\n",
              "    }\n",
              "</style>\n",
              "<table border=\"1\" class=\"dataframe\">\n",
              "  <thead>\n",
              "    <tr style=\"text-align: right;\">\n",
              "      <th></th>\n",
              "      <th>date</th>\n",
              "      <th>keyrate</th>\n",
              "    </tr>\n",
              "  </thead>\n",
              "  <tbody>\n",
              "    <tr>\n",
              "      <th>0</th>\n",
              "      <td>2021-04-20</td>\n",
              "      <td>4.5</td>\n",
              "    </tr>\n",
              "    <tr>\n",
              "      <th>1</th>\n",
              "      <td>2021-04-19</td>\n",
              "      <td>4.5</td>\n",
              "    </tr>\n",
              "    <tr>\n",
              "      <th>2</th>\n",
              "      <td>2021-04-16</td>\n",
              "      <td>4.5</td>\n",
              "    </tr>\n",
              "    <tr>\n",
              "      <th>3</th>\n",
              "      <td>2021-04-15</td>\n",
              "      <td>4.5</td>\n",
              "    </tr>\n",
              "    <tr>\n",
              "      <th>4</th>\n",
              "      <td>2021-04-14</td>\n",
              "      <td>4.5</td>\n",
              "    </tr>\n",
              "    <tr>\n",
              "      <th>5</th>\n",
              "      <td>2021-04-13</td>\n",
              "      <td>4.5</td>\n",
              "    </tr>\n",
              "    <tr>\n",
              "      <th>6</th>\n",
              "      <td>2021-04-12</td>\n",
              "      <td>4.5</td>\n",
              "    </tr>\n",
              "    <tr>\n",
              "      <th>7</th>\n",
              "      <td>2021-04-09</td>\n",
              "      <td>4.5</td>\n",
              "    </tr>\n",
              "    <tr>\n",
              "      <th>8</th>\n",
              "      <td>2021-04-08</td>\n",
              "      <td>4.5</td>\n",
              "    </tr>\n",
              "    <tr>\n",
              "      <th>9</th>\n",
              "      <td>2021-04-07</td>\n",
              "      <td>4.5</td>\n",
              "    </tr>\n",
              "  </tbody>\n",
              "</table>\n",
              "</div>"
            ]
          },
          "metadata": {
            "tags": []
          },
          "execution_count": 31
        }
      ]
    },
    {
      "cell_type": "code",
      "metadata": {
        "colab": {
          "base_uri": "https://localhost:8080/",
          "height": 359
        },
        "id": "-kMw8RmezL7H",
        "outputId": "1e523f62-e33e-4a0e-f178-7d817ba4c1e9"
      },
      "source": [
        "exch = pd.read_excel('exchange.xlsx',sep=(';') ,header=0)\n",
        "exch.columns=['date','m','exchange']\n",
        "exch=exch.drop(['m'],axis=1)\n",
        "exch['date']=pd.to_datetime(exch['date'])\n",
        "exch.head(10)"
      ],
      "execution_count": null,
      "outputs": [
        {
          "output_type": "execute_result",
          "data": {
            "text/plain": [
              "        date  exchange\n",
              "0 2021-04-20      76.2\n",
              "1 2021-04-17      75.6\n",
              "2 2021-04-16      77.0\n",
              "3 2021-04-15      75.7\n",
              "4 2021-04-14      77.3\n",
              "5 2021-04-13      77.5\n",
              "6 2021-04-10      77.2\n",
              "7 2021-04-09      77.1\n",
              "8 2021-04-08      77.8\n",
              "9 2021-04-07      76.4"
            ],
            "text/html": [
              "<div>\n",
              "<style scoped>\n",
              "    .dataframe tbody tr th:only-of-type {\n",
              "        vertical-align: middle;\n",
              "    }\n",
              "\n",
              "    .dataframe tbody tr th {\n",
              "        vertical-align: top;\n",
              "    }\n",
              "\n",
              "    .dataframe thead th {\n",
              "        text-align: right;\n",
              "    }\n",
              "</style>\n",
              "<table border=\"1\" class=\"dataframe\">\n",
              "  <thead>\n",
              "    <tr style=\"text-align: right;\">\n",
              "      <th></th>\n",
              "      <th>date</th>\n",
              "      <th>exchange</th>\n",
              "    </tr>\n",
              "  </thead>\n",
              "  <tbody>\n",
              "    <tr>\n",
              "      <th>0</th>\n",
              "      <td>2021-04-20</td>\n",
              "      <td>76.2</td>\n",
              "    </tr>\n",
              "    <tr>\n",
              "      <th>1</th>\n",
              "      <td>2021-04-17</td>\n",
              "      <td>75.6</td>\n",
              "    </tr>\n",
              "    <tr>\n",
              "      <th>2</th>\n",
              "      <td>2021-04-16</td>\n",
              "      <td>77.0</td>\n",
              "    </tr>\n",
              "    <tr>\n",
              "      <th>3</th>\n",
              "      <td>2021-04-15</td>\n",
              "      <td>75.7</td>\n",
              "    </tr>\n",
              "    <tr>\n",
              "      <th>4</th>\n",
              "      <td>2021-04-14</td>\n",
              "      <td>77.3</td>\n",
              "    </tr>\n",
              "    <tr>\n",
              "      <th>5</th>\n",
              "      <td>2021-04-13</td>\n",
              "      <td>77.5</td>\n",
              "    </tr>\n",
              "    <tr>\n",
              "      <th>6</th>\n",
              "      <td>2021-04-10</td>\n",
              "      <td>77.2</td>\n",
              "    </tr>\n",
              "    <tr>\n",
              "      <th>7</th>\n",
              "      <td>2021-04-09</td>\n",
              "      <td>77.1</td>\n",
              "    </tr>\n",
              "    <tr>\n",
              "      <th>8</th>\n",
              "      <td>2021-04-08</td>\n",
              "      <td>77.8</td>\n",
              "    </tr>\n",
              "    <tr>\n",
              "      <th>9</th>\n",
              "      <td>2021-04-07</td>\n",
              "      <td>76.4</td>\n",
              "    </tr>\n",
              "  </tbody>\n",
              "</table>\n",
              "</div>"
            ]
          },
          "metadata": {
            "tags": []
          },
          "execution_count": 32
        }
      ]
    },
    {
      "cell_type": "code",
      "metadata": {
        "colab": {
          "base_uri": "https://localhost:8080/",
          "height": 359
        },
        "id": "QMz0VgJcJnLv",
        "outputId": "674b2c28-bdb8-43e2-b0c3-940c1fa945e9"
      },
      "source": [
        "dob = pd.read_excel('dob.xlsx',sep=(';') ,header=0)\n",
        "dob.columns=['month','dob']\n",
        "dob['month']=dob['month'].apply(str)\n",
        "dob['month']=dob['month'].apply(lambda x: datetime(  int(x[6:]),int(x[3:5]),int(x[:2])))\n",
        "dob.head(10)\n"
      ],
      "execution_count": null,
      "outputs": [
        {
          "output_type": "execute_result",
          "data": {
            "text/plain": [
              "       month     dob\n",
              "0 2013-02-01 39939.0\n",
              "1 2013-03-01 44185.0\n",
              "2 2013-04-01 42762.0\n",
              "3 2013-05-01 44285.0\n",
              "4 2013-06-01 42965.0\n",
              "5 2013-07-01 44074.0\n",
              "6 2013-08-01 44504.0\n",
              "7 2013-09-01 43116.0\n",
              "8 2013-10-01 44707.0\n",
              "9 2013-11-01 43465.0"
            ],
            "text/html": [
              "<div>\n",
              "<style scoped>\n",
              "    .dataframe tbody tr th:only-of-type {\n",
              "        vertical-align: middle;\n",
              "    }\n",
              "\n",
              "    .dataframe tbody tr th {\n",
              "        vertical-align: top;\n",
              "    }\n",
              "\n",
              "    .dataframe thead th {\n",
              "        text-align: right;\n",
              "    }\n",
              "</style>\n",
              "<table border=\"1\" class=\"dataframe\">\n",
              "  <thead>\n",
              "    <tr style=\"text-align: right;\">\n",
              "      <th></th>\n",
              "      <th>month</th>\n",
              "      <th>dob</th>\n",
              "    </tr>\n",
              "  </thead>\n",
              "  <tbody>\n",
              "    <tr>\n",
              "      <th>0</th>\n",
              "      <td>2013-02-01</td>\n",
              "      <td>39939.0</td>\n",
              "    </tr>\n",
              "    <tr>\n",
              "      <th>1</th>\n",
              "      <td>2013-03-01</td>\n",
              "      <td>44185.0</td>\n",
              "    </tr>\n",
              "    <tr>\n",
              "      <th>2</th>\n",
              "      <td>2013-04-01</td>\n",
              "      <td>42762.0</td>\n",
              "    </tr>\n",
              "    <tr>\n",
              "      <th>3</th>\n",
              "      <td>2013-05-01</td>\n",
              "      <td>44285.0</td>\n",
              "    </tr>\n",
              "    <tr>\n",
              "      <th>4</th>\n",
              "      <td>2013-06-01</td>\n",
              "      <td>42965.0</td>\n",
              "    </tr>\n",
              "    <tr>\n",
              "      <th>5</th>\n",
              "      <td>2013-07-01</td>\n",
              "      <td>44074.0</td>\n",
              "    </tr>\n",
              "    <tr>\n",
              "      <th>6</th>\n",
              "      <td>2013-08-01</td>\n",
              "      <td>44504.0</td>\n",
              "    </tr>\n",
              "    <tr>\n",
              "      <th>7</th>\n",
              "      <td>2013-09-01</td>\n",
              "      <td>43116.0</td>\n",
              "    </tr>\n",
              "    <tr>\n",
              "      <th>8</th>\n",
              "      <td>2013-10-01</td>\n",
              "      <td>44707.0</td>\n",
              "    </tr>\n",
              "    <tr>\n",
              "      <th>9</th>\n",
              "      <td>2013-11-01</td>\n",
              "      <td>43465.0</td>\n",
              "    </tr>\n",
              "  </tbody>\n",
              "</table>\n",
              "</div>"
            ]
          },
          "metadata": {
            "tags": []
          },
          "execution_count": 33
        }
      ]
    },
    {
      "cell_type": "code",
      "metadata": {
        "colab": {
          "base_uri": "https://localhost:8080/"
        },
        "id": "lftibziX4IaC",
        "outputId": "93914e3a-e23e-4067-9356-d88e80cf57f4"
      },
      "source": [
        "brentexch=brent.merge(exch)\n",
        "brentexchkeyrate=brentexch.merge(keyrate)\n",
        "brentexchkeyrate['month']=brentexchkeyrate.date.apply(lambda x:datetime(x.year, x.month,1))\n",
        "brentexchkeyrateinf=brentexchkeyrate.merge(inf,on='month')\n",
        "brentexchkeyrateinfdob=brentexchkeyrateinf.merge(dob)\n",
        "dt=brentexchkeyrateinfdob.drop(['month','date_y'],axis=1)\n",
        "dt.head"
      ],
      "execution_count": null,
      "outputs": [
        {
          "output_type": "execute_result",
          "data": {
            "text/plain": [
              "<bound method DataFrame.head of        ticker     date_x  price  volume  exchange  keyrate   inf     dob\n",
              "0     ICE,BRN 2013-09-17  107.8   119.7      32.3      5.5 100.2 43116.0\n",
              "1     ICE,BRN 2013-09-18  110.7   109.9      32.3      5.5 100.2 43116.0\n",
              "2     ICE,BRN 2013-09-19  108.8   123.6      32.2      5.5 100.2 43116.0\n",
              "3     ICE,BRN 2013-09-20  109.3    99.0      31.6      5.5 100.2 43116.0\n",
              "4     ICE,BRN 2013-09-24  108.8   101.6      31.9      5.5 100.2 43116.0\n",
              "5     ICE,BRN 2013-09-25  108.1   115.7      31.8      5.5 100.2 43116.0\n",
              "6     ICE,BRN 2013-09-26  109.2    85.2      31.9      5.5 100.2 43116.0\n",
              "7     ICE,BRN 2013-09-27  108.4   112.8      32.2      5.5 100.2 43116.0\n",
              "8     ICE,BRN 2013-10-01  106.9    54.2      32.5      5.5 100.6 44707.0\n",
              "9     ICE,BRN 2013-10-02  108.0    48.6      32.3      5.5 100.6 44707.0\n",
              "10    ICE,BRN 2013-10-03  107.7    45.6      32.3      5.5 100.6 44707.0\n",
              "11    ICE,BRN 2013-10-04  108.5    40.4      32.1      5.5 100.6 44707.0\n",
              "12    ICE,BRN 2013-10-08  109.4    52.0      32.3      5.5 100.6 44707.0\n",
              "13    ICE,BRN 2013-10-09  108.2    66.3      32.3      5.5 100.6 44707.0\n",
              "14    ICE,BRN 2013-10-10  110.9   104.1      32.4      5.5 100.6 44707.0\n",
              "15    ICE,BRN 2013-10-11  110.3    74.3      32.4      5.5 100.6 44707.0\n",
              "16    ICE,BRN 2013-10-15  109.0    78.3      32.3      5.5 100.6 44707.0\n",
              "17    ICE,BRN 2013-10-16  110.5   112.0      32.3      5.5 100.6 44707.0\n",
              "18    ICE,BRN 2013-10-17  109.0   134.1      32.3      5.5 100.6 44707.0\n",
              "19    ICE,BRN 2013-10-18  109.9    96.4      32.1      5.5 100.6 44707.0\n",
              "20    ICE,BRN 2013-10-22  110.1   126.7      31.9      5.5 100.6 44707.0\n",
              "21    ICE,BRN 2013-10-23  107.7   172.5      31.9      5.5 100.6 44707.0\n",
              "22    ICE,BRN 2013-10-24  107.0   128.7      31.7      5.5 100.6 44707.0\n",
              "23    ICE,BRN 2013-10-25  107.1   106.1      31.7      5.5 100.6 44707.0\n",
              "24    ICE,BRN 2013-10-29  108.8    96.0      31.8      5.5 100.6 44707.0\n",
              "25    ICE,BRN 2013-10-30  109.8   116.8      31.9      5.5 100.6 44707.0\n",
              "26    ICE,BRN 2013-10-31  108.9   118.0      32.1      5.5 100.6 44707.0\n",
              "27    ICE,BRN 2013-11-01  106.0    42.4      32.1      5.5 100.6 43465.0\n",
              "28    ICE,BRN 2013-11-06  105.0    39.8      32.4      5.5 100.6 43465.0\n",
              "29    ICE,BRN 2013-11-07  103.5    65.9      32.5      5.5 100.6 43465.0\n",
              "...       ...        ...    ...     ...       ...      ...   ...     ...\n",
              "1200  ICE,BRN 2019-11-29   60.7   184.8      64.1      6.5 100.3 46073.0\n",
              "1201  ICE,BRN 2019-12-03   61.2   157.2      64.4      6.5 100.4 47684.1\n",
              "1202  ICE,BRN 2019-12-04   63.0   213.2      64.1      6.5 100.4 47684.1\n",
              "1203  ICE,BRN 2019-12-05   63.3   187.0      64.2      6.5 100.4 47684.1\n",
              "1204  ICE,BRN 2019-12-06   64.3   188.3      63.8      6.5 100.4 47684.1\n",
              "1205  ICE,BRN 2019-12-10   64.2   129.8      63.7      6.5 100.4 47684.1\n",
              "1206  ICE,BRN 2019-12-11   64.0   137.9      63.6      6.5 100.4 47684.1\n",
              "1207  ICE,BRN 2019-12-12   64.5   116.9      63.6      6.5 100.4 47684.1\n",
              "1208  ICE,BRN 2019-12-13   65.0   132.3      63.2      6.5 100.4 47684.1\n",
              "1209  ICE,BRN 2019-12-17   65.8   125.2      62.8      6.2 100.4 47684.1\n",
              "1210  ICE,BRN 2019-12-18   66.2   123.4      62.5      6.2 100.4 47684.1\n",
              "1211  ICE,BRN 2019-12-19   66.6    92.3      62.6      6.2 100.4 47684.1\n",
              "1212  ICE,BRN 2019-12-20   66.1   107.2      62.5      6.2 100.4 47684.1\n",
              "1213  ICE,BRN 2019-12-24   67.2    51.3      62.2      6.2 100.4 47684.1\n",
              "1214  ICE,BRN 2019-12-26   66.8    55.8      61.7      6.2 100.4 47684.1\n",
              "1215  ICE,BRN 2019-12-27   66.8   103.3      61.8      6.2 100.4 47684.1\n",
              "1216  ICE,BRN 2019-12-31   66.0   122.5      61.9      6.2 100.4 47684.1\n",
              "1217  ICE,BRN 2020-01-10   65.1   162.3      61.2      6.2 100.4 47874.7\n",
              "1218  ICE,BRN 2020-01-14   64.5   136.3      60.9      6.2 100.4 47874.7\n",
              "1219  ICE,BRN 2020-01-15   64.3   127.4      61.4      6.2 100.4 47874.7\n",
              "1220  ICE,BRN 2020-01-16   64.7   123.4      61.4      6.2 100.4 47874.7\n",
              "1221  ICE,BRN 2020-01-17   65.3   121.6      61.6      6.2 100.4 47874.7\n",
              "1222  ICE,BRN 2020-01-21   64.5   143.2      61.5      6.2 100.4 47874.7\n",
              "1223  ICE,BRN 2020-01-22   62.7   167.9      61.9      6.2 100.4 47874.7\n",
              "1224  ICE,BRN 2020-01-23   62.1   186.7      61.8      6.2 100.4 47874.7\n",
              "1225  ICE,BRN 2020-01-24   60.6   147.9      62.0      6.2 100.4 47874.7\n",
              "1226  ICE,BRN 2020-01-28   59.3   125.4      62.3      6.2 100.4 47874.7\n",
              "1227  ICE,BRN 2020-01-29   58.7   168.6      62.8      6.2 100.4 47874.7\n",
              "1228  ICE,BRN 2020-01-30   58.1   228.8      62.4      6.2 100.4 47874.7\n",
              "1229  ICE,BRN 2020-01-31   56.7   260.4      63.0      6.2 100.4 47874.7\n",
              "\n",
              "[1230 rows x 8 columns]>"
            ]
          },
          "metadata": {
            "tags": []
          },
          "execution_count": 34
        }
      ]
    },
    {
      "cell_type": "markdown",
      "metadata": {
        "id": "1oBG5qWKySX2"
      },
      "source": [
        "## 2. Описание, анализ и визуализация данных:"
      ]
    },
    {
      "cell_type": "markdown",
      "metadata": {
        "id": "pb82q2UPySX5"
      },
      "source": [
        "Выведем информацию по нашим данным"
      ]
    },
    {
      "cell_type": "code",
      "metadata": {
        "colab": {
          "base_uri": "https://localhost:8080/"
        },
        "id": "BESRXZTFySX6",
        "outputId": "e2b48196-250a-40da-9454-3b531a120096"
      },
      "source": [
        "dt.info()"
      ],
      "execution_count": null,
      "outputs": [
        {
          "output_type": "stream",
          "text": [
            "<class 'pandas.core.frame.DataFrame'>\n",
            "Int64Index: 1230 entries, 0 to 1229\n",
            "Data columns (total 8 columns):\n",
            "ticker      1230 non-null object\n",
            "date_x      1230 non-null datetime64[ns]\n",
            "price       1230 non-null float64\n",
            "volume      1230 non-null float64\n",
            "exchange    1230 non-null float64\n",
            "keyrate     1230 non-null float64\n",
            "inf         1230 non-null float64\n",
            "dob         1230 non-null float64\n",
            "dtypes: datetime64[ns](1), float64(6), object(1)\n",
            "memory usage: 86.5+ KB\n"
          ],
          "name": "stdout"
        }
      ]
    },
    {
      "cell_type": "markdown",
      "metadata": {
        "id": "mqbhqhFoySX7"
      },
      "source": [
        "Выведем описание информации по столбцам"
      ]
    },
    {
      "cell_type": "code",
      "metadata": {
        "colab": {
          "base_uri": "https://localhost:8080/",
          "height": 297
        },
        "id": "Qp1KKen3ySX7",
        "outputId": "36d34246-ef3e-4464-8662-0d6d56f495e9"
      },
      "source": [
        "dt.describe()"
      ],
      "execution_count": null,
      "outputs": [
        {
          "output_type": "execute_result",
          "data": {
            "text/plain": [
              "       price  volume  exchange  keyrate    inf     dob\n",
              "count 1230.0  1230.0    1230.0   1230.0 1230.0  1230.0\n",
              "mean    66.9   150.8      57.5      8.9  100.5 45410.3\n",
              "std     21.0    55.8      11.6      2.3    0.6  1646.6\n",
              "min     27.8     0.0      31.6      5.5   99.5 40364.0\n",
              "25%     51.6   116.8      56.3      7.2  100.2 44573.0\n",
              "50%     61.9   150.3      62.0      8.0  100.4 45309.2\n",
              "75%     74.7   183.4      65.2     10.5  100.6 46392.3\n",
              "max    114.9   522.6      83.6     17.0  103.8 48443.9"
            ],
            "text/html": [
              "<div>\n",
              "<style scoped>\n",
              "    .dataframe tbody tr th:only-of-type {\n",
              "        vertical-align: middle;\n",
              "    }\n",
              "\n",
              "    .dataframe tbody tr th {\n",
              "        vertical-align: top;\n",
              "    }\n",
              "\n",
              "    .dataframe thead th {\n",
              "        text-align: right;\n",
              "    }\n",
              "</style>\n",
              "<table border=\"1\" class=\"dataframe\">\n",
              "  <thead>\n",
              "    <tr style=\"text-align: right;\">\n",
              "      <th></th>\n",
              "      <th>price</th>\n",
              "      <th>volume</th>\n",
              "      <th>exchange</th>\n",
              "      <th>keyrate</th>\n",
              "      <th>inf</th>\n",
              "      <th>dob</th>\n",
              "    </tr>\n",
              "  </thead>\n",
              "  <tbody>\n",
              "    <tr>\n",
              "      <th>count</th>\n",
              "      <td>1230.0</td>\n",
              "      <td>1230.0</td>\n",
              "      <td>1230.0</td>\n",
              "      <td>1230.0</td>\n",
              "      <td>1230.0</td>\n",
              "      <td>1230.0</td>\n",
              "    </tr>\n",
              "    <tr>\n",
              "      <th>mean</th>\n",
              "      <td>66.9</td>\n",
              "      <td>150.8</td>\n",
              "      <td>57.5</td>\n",
              "      <td>8.9</td>\n",
              "      <td>100.5</td>\n",
              "      <td>45410.3</td>\n",
              "    </tr>\n",
              "    <tr>\n",
              "      <th>std</th>\n",
              "      <td>21.0</td>\n",
              "      <td>55.8</td>\n",
              "      <td>11.6</td>\n",
              "      <td>2.3</td>\n",
              "      <td>0.6</td>\n",
              "      <td>1646.6</td>\n",
              "    </tr>\n",
              "    <tr>\n",
              "      <th>min</th>\n",
              "      <td>27.8</td>\n",
              "      <td>0.0</td>\n",
              "      <td>31.6</td>\n",
              "      <td>5.5</td>\n",
              "      <td>99.5</td>\n",
              "      <td>40364.0</td>\n",
              "    </tr>\n",
              "    <tr>\n",
              "      <th>25%</th>\n",
              "      <td>51.6</td>\n",
              "      <td>116.8</td>\n",
              "      <td>56.3</td>\n",
              "      <td>7.2</td>\n",
              "      <td>100.2</td>\n",
              "      <td>44573.0</td>\n",
              "    </tr>\n",
              "    <tr>\n",
              "      <th>50%</th>\n",
              "      <td>61.9</td>\n",
              "      <td>150.3</td>\n",
              "      <td>62.0</td>\n",
              "      <td>8.0</td>\n",
              "      <td>100.4</td>\n",
              "      <td>45309.2</td>\n",
              "    </tr>\n",
              "    <tr>\n",
              "      <th>75%</th>\n",
              "      <td>74.7</td>\n",
              "      <td>183.4</td>\n",
              "      <td>65.2</td>\n",
              "      <td>10.5</td>\n",
              "      <td>100.6</td>\n",
              "      <td>46392.3</td>\n",
              "    </tr>\n",
              "    <tr>\n",
              "      <th>max</th>\n",
              "      <td>114.9</td>\n",
              "      <td>522.6</td>\n",
              "      <td>83.6</td>\n",
              "      <td>17.0</td>\n",
              "      <td>103.8</td>\n",
              "      <td>48443.9</td>\n",
              "    </tr>\n",
              "  </tbody>\n",
              "</table>\n",
              "</div>"
            ]
          },
          "metadata": {
            "tags": []
          },
          "execution_count": 36
        }
      ]
    },
    {
      "cell_type": "markdown",
      "metadata": {
        "id": "FkMUfz-hySX8"
      },
      "source": [
        "Проверим данные на нулевые значения"
      ]
    },
    {
      "cell_type": "code",
      "metadata": {
        "scrolled": true,
        "colab": {
          "base_uri": "https://localhost:8080/"
        },
        "id": "HcQ7cHxJySX8",
        "outputId": "72f6d6b9-e69a-4628-e030-934acb8cae95"
      },
      "source": [
        "dt.isnull().sum()"
      ],
      "execution_count": null,
      "outputs": [
        {
          "output_type": "execute_result",
          "data": {
            "text/plain": [
              "ticker      0\n",
              "date_x      0\n",
              "price       0\n",
              "volume      0\n",
              "exchange    0\n",
              "keyrate     0\n",
              "inf         0\n",
              "dob         0\n",
              "dtype: int64"
            ]
          },
          "metadata": {
            "tags": []
          },
          "execution_count": 37
        }
      ]
    },
    {
      "cell_type": "code",
      "metadata": {
        "colab": {
          "base_uri": "https://localhost:8080/",
          "height": 272
        },
        "id": "UCqv2i4CySX9",
        "outputId": "3589f5bb-2b04-4083-c750-ee1e5cc8fbd6"
      },
      "source": [
        "print(\"Медианное цены нефти = \"+str(dt.price.median()))\n",
        "\n",
        "plt.subplot(1,2,2)\n",
        "ax = sns.boxplot(y=dt.price, color='yellow')\n",
        "\n",
        "plt.show()"
      ],
      "execution_count": null,
      "outputs": [
        {
          "output_type": "stream",
          "text": [
            "Медианное цены нефти = 61.915\n"
          ],
          "name": "stdout"
        },
        {
          "output_type": "display_data",
          "data": {
            "image/png": "[encoded data removed]",
            "text/plain": [
              "<Figure size 432x288 with 1 Axes>"
            ]
          },
          "metadata": {
            "tags": [],
            "needs_background": "light"
          }
        }
      ]
    },
    {
      "cell_type": "code",
      "metadata": {
        "colab": {
          "base_uri": "https://localhost:8080/"
        },
        "id": "tSgVpALTySYD",
        "outputId": "aa07d213-0891-49f1-fd36-00798d81e46b"
      },
      "source": [
        "dt_corruption = dt[\"price\"]\n",
        "Q1 = dt_corruption.quantile(0.25)\n",
        "Q3 = dt_corruption.quantile(0.75)\n",
        "IQR = Q3 - Q1\n",
        "lower_bound = Q1 - 1.5*IQR\n",
        "upper_bound = Q3 + 1.5*IQR\n",
        "print('Lower bound: ' + str(lower_bound))\n",
        "print('Upper bound: ' + str(upper_bound))\n",
        "print('Q1:', Q1)\n",
        "print('Q3:', Q3)"
      ],
      "execution_count": null,
      "outputs": [
        {
          "output_type": "stream",
          "text": [
            "Lower bound: 17.092499999999994\n",
            "Upper bound: 109.23250000000002\n",
            "('Q1:', 51.645)\n",
            "('Q3:', 74.68)\n"
          ],
          "name": "stdout"
        }
      ]
    },
    {
      "cell_type": "markdown",
      "metadata": {
        "id": "-57yxHHKySYE"
      },
      "source": [
        "Определили нижнюю и верхнюю границу, после которых значение можно считать выпадающим. Посмотрим, сколько у нас выпадающих значений."
      ]
    },
    {
      "cell_type": "code",
      "metadata": {
        "colab": {
          "base_uri": "https://localhost:8080/"
        },
        "id": "6CShGjhpySYE",
        "outputId": "94cf86ec-2857-4b7f-a4df-ab6117439a2b"
      },
      "source": [
        "outliers_vector = (dt_corruption < (lower_bound)) | (dt_corruption > (upper_bound))\n",
        "outliers_vector = dt_corruption[outliers_vector]\n",
        "outliers_vector.index.values"
      ],
      "execution_count": null,
      "outputs": [
        {
          "output_type": "execute_result",
          "data": {
            "text/plain": [
              "array([  1,   3,  12,  14,  15,  17,  19,  20,  25,  37,  38,  39,  40,\n",
              "        41,  42,  43,  44,  45,  46,  47,  48,  52,  53,  54,  55,  56,\n",
              "        57,  58,  80,  81,  82,  83,  84,  85, 112, 113, 114, 116, 117,\n",
              "       126, 127, 128, 129, 130, 131, 132, 133, 134, 140, 141, 142, 143,\n",
              "       144, 145, 146, 147, 148, 149, 150, 151, 152])"
            ]
          },
          "metadata": {
            "tags": []
          },
          "execution_count": 40
        }
      ]
    },
    {
      "cell_type": "code",
      "metadata": {
        "id": "I1X6SCGhFMcR",
        "colab": {
          "base_uri": "https://localhost:8080/",
          "height": 1000
        },
        "outputId": "f3de5892-6b50-467f-e34a-50a5cb13ee85"
      },
      "source": [
        "dt.drop(index=outliers_vector.index.values,inplace=True)\n",
        "dt"
      ],
      "execution_count": null,
      "outputs": [
        {
          "output_type": "execute_result",
          "data": {
            "text/plain": [
              "       ticker     date_x  price  volume  exchange  keyrate   inf     dob\n",
              "0     ICE,BRN 2013-09-17  107.8   119.7      32.3      5.5 100.2 43116.0\n",
              "2     ICE,BRN 2013-09-19  108.8   123.6      32.2      5.5 100.2 43116.0\n",
              "4     ICE,BRN 2013-09-24  108.8   101.6      31.9      5.5 100.2 43116.0\n",
              "5     ICE,BRN 2013-09-25  108.1   115.7      31.8      5.5 100.2 43116.0\n",
              "6     ICE,BRN 2013-09-26  109.2    85.2      31.9      5.5 100.2 43116.0\n",
              "7     ICE,BRN 2013-09-27  108.4   112.8      32.2      5.5 100.2 43116.0\n",
              "8     ICE,BRN 2013-10-01  106.9    54.2      32.5      5.5 100.6 44707.0\n",
              "9     ICE,BRN 2013-10-02  108.0    48.6      32.3      5.5 100.6 44707.0\n",
              "10    ICE,BRN 2013-10-03  107.7    45.6      32.3      5.5 100.6 44707.0\n",
              "11    ICE,BRN 2013-10-04  108.5    40.4      32.1      5.5 100.6 44707.0\n",
              "13    ICE,BRN 2013-10-09  108.2    66.3      32.3      5.5 100.6 44707.0\n",
              "16    ICE,BRN 2013-10-15  109.0    78.3      32.3      5.5 100.6 44707.0\n",
              "18    ICE,BRN 2013-10-17  109.0   134.1      32.3      5.5 100.6 44707.0\n",
              "21    ICE,BRN 2013-10-23  107.7   172.5      31.9      5.5 100.6 44707.0\n",
              "22    ICE,BRN 2013-10-24  107.0   128.7      31.7      5.5 100.6 44707.0\n",
              "23    ICE,BRN 2013-10-25  107.1   106.1      31.7      5.5 100.6 44707.0\n",
              "24    ICE,BRN 2013-10-29  108.8    96.0      31.8      5.5 100.6 44707.0\n",
              "26    ICE,BRN 2013-10-31  108.9   118.0      32.1      5.5 100.6 44707.0\n",
              "27    ICE,BRN 2013-11-01  106.0    42.4      32.1      5.5 100.6 43465.0\n",
              "28    ICE,BRN 2013-11-06  105.0    39.8      32.4      5.5 100.6 43465.0\n",
              "29    ICE,BRN 2013-11-07  103.5    65.9      32.5      5.5 100.6 43465.0\n",
              "30    ICE,BRN 2013-11-08  105.0    76.1      32.4      5.5 100.6 43465.0\n",
              "31    ICE,BRN 2013-11-12  105.8    89.1      32.7      5.5 100.6 43465.0\n",
              "32    ICE,BRN 2013-11-13  106.9   114.3      32.8      5.5 100.6 43465.0\n",
              "33    ICE,BRN 2013-11-14  108.4   155.4      32.8      5.5 100.6 43465.0\n",
              "34    ICE,BRN 2013-11-15  108.5   101.7      32.7      5.5 100.6 43465.0\n",
              "35    ICE,BRN 2013-11-19  107.1   122.9      32.6      5.5 100.6 43465.0\n",
              "36    ICE,BRN 2013-11-20  107.9   123.8      32.6      5.5 100.6 43465.0\n",
              "49    ICE,BRN 2013-12-12  108.3    81.8      32.7      5.5 100.5 44984.0\n",
              "50    ICE,BRN 2013-12-13  108.3   102.2      32.8      5.5 100.5 44984.0\n",
              "...       ...        ...    ...     ...       ...      ...   ...     ...\n",
              "1200  ICE,BRN 2019-11-29   60.7   184.8      64.1      6.5 100.3 46073.0\n",
              "1201  ICE,BRN 2019-12-03   61.2   157.2      64.4      6.5 100.4 47684.1\n",
              "1202  ICE,BRN 2019-12-04   63.0   213.2      64.1      6.5 100.4 47684.1\n",
              "1203  ICE,BRN 2019-12-05   63.3   187.0      64.2      6.5 100.4 47684.1\n",
              "1204  ICE,BRN 2019-12-06   64.3   188.3      63.8      6.5 100.4 47684.1\n",
              "1205  ICE,BRN 2019-12-10   64.2   129.8      63.7      6.5 100.4 47684.1\n",
              "1206  ICE,BRN 2019-12-11   64.0   137.9      63.6      6.5 100.4 47684.1\n",
              "1207  ICE,BRN 2019-12-12   64.5   116.9      63.6      6.5 100.4 47684.1\n",
              "1208  ICE,BRN 2019-12-13   65.0   132.3      63.2      6.5 100.4 47684.1\n",
              "1209  ICE,BRN 2019-12-17   65.8   125.2      62.8      6.2 100.4 47684.1\n",
              "1210  ICE,BRN 2019-12-18   66.2   123.4      62.5      6.2 100.4 47684.1\n",
              "1211  ICE,BRN 2019-12-19   66.6    92.3      62.6      6.2 100.4 47684.1\n",
              "1212  ICE,BRN 2019-12-20   66.1   107.2      62.5      6.2 100.4 47684.1\n",
              "1213  ICE,BRN 2019-12-24   67.2    51.3      62.2      6.2 100.4 47684.1\n",
              "1214  ICE,BRN 2019-12-26   66.8    55.8      61.7      6.2 100.4 47684.1\n",
              "1215  ICE,BRN 2019-12-27   66.8   103.3      61.8      6.2 100.4 47684.1\n",
              "1216  ICE,BRN 2019-12-31   66.0   122.5      61.9      6.2 100.4 47684.1\n",
              "1217  ICE,BRN 2020-01-10   65.1   162.3      61.2      6.2 100.4 47874.7\n",
              "1218  ICE,BRN 2020-01-14   64.5   136.3      60.9      6.2 100.4 47874.7\n",
              "1219  ICE,BRN 2020-01-15   64.3   127.4      61.4      6.2 100.4 47874.7\n",
              "1220  ICE,BRN 2020-01-16   64.7   123.4      61.4      6.2 100.4 47874.7\n",
              "1221  ICE,BRN 2020-01-17   65.3   121.6      61.6      6.2 100.4 47874.7\n",
              "1222  ICE,BRN 2020-01-21   64.5   143.2      61.5      6.2 100.4 47874.7\n",
              "1223  ICE,BRN 2020-01-22   62.7   167.9      61.9      6.2 100.4 47874.7\n",
              "1224  ICE,BRN 2020-01-23   62.1   186.7      61.8      6.2 100.4 47874.7\n",
              "1225  ICE,BRN 2020-01-24   60.6   147.9      62.0      6.2 100.4 47874.7\n",
              "1226  ICE,BRN 2020-01-28   59.3   125.4      62.3      6.2 100.4 47874.7\n",
              "1227  ICE,BRN 2020-01-29   58.7   168.6      62.8      6.2 100.4 47874.7\n",
              "1228  ICE,BRN 2020-01-30   58.1   228.8      62.4      6.2 100.4 47874.7\n",
              "1229  ICE,BRN 2020-01-31   56.7   260.4      63.0      6.2 100.4 47874.7\n",
              "\n",
              "[1169 rows x 8 columns]"
            ],
            "text/html": [
              "<div>\n",
              "<style scoped>\n",
              "    .dataframe tbody tr th:only-of-type {\n",
              "        vertical-align: middle;\n",
              "    }\n",
              "\n",
              "    .dataframe tbody tr th {\n",
              "        vertical-align: top;\n",
              "    }\n",
              "\n",
              "    .dataframe thead th {\n",
              "        text-align: right;\n",
              "    }\n",
              "</style>\n",
              "<table border=\"1\" class=\"dataframe\">\n",
              "  <thead>\n",
              "    <tr style=\"text-align: right;\">\n",
              "      <th></th>\n",
              "      <th>ticker</th>\n",
              "      <th>date_x</th>\n",
              "      <th>price</th>\n",
              "      <th>volume</th>\n",
              "      <th>exchange</th>\n",
              "      <th>keyrate</th>\n",
              "      <th>inf</th>\n",
              "      <th>dob</th>\n",
              "    </tr>\n",
              "  </thead>\n",
              "  <tbody>\n",
              "    <tr>\n",
              "      <th>0</th>\n",
              "      <td>ICE,BRN</td>\n",
              "      <td>2013-09-17</td>\n",
              "      <td>107.8</td>\n",
              "      <td>119.7</td>\n",
              "      <td>32.3</td>\n",
              "      <td>5.5</td>\n",
              "      <td>100.2</td>\n",
              "      <td>43116.0</td>\n",
              "    </tr>\n",
              "    <tr>\n",
              "      <th>2</th>\n",
              "      <td>ICE,BRN</td>\n",
              "      <td>2013-09-19</td>\n",
              "      <td>108.8</td>\n",
              "      <td>123.6</td>\n",
              "      <td>32.2</td>\n",
              "      <td>5.5</td>\n",
              "      <td>100.2</td>\n",
              "      <td>43116.0</td>\n",
              "    </tr>\n",
              "    <tr>\n",
              "      <th>4</th>\n",
              "      <td>ICE,BRN</td>\n",
              "      <td>2013-09-24</td>\n",
              "      <td>108.8</td>\n",
              "      <td>101.6</td>\n",
              "      <td>31.9</td>\n",
              "      <td>5.5</td>\n",
              "      <td>100.2</td>\n",
              "      <td>43116.0</td>\n",
              "    </tr>\n",
              "    <tr>\n",
              "      <th>5</th>\n",
              "      <td>ICE,BRN</td>\n",
              "      <td>2013-09-25</td>\n",
              "      <td>108.1</td>\n",
              "      <td>115.7</td>\n",
              "      <td>31.8</td>\n",
              "      <td>5.5</td>\n",
              "      <td>100.2</td>\n",
              "      <td>43116.0</td>\n",
              "    </tr>\n",
              "    <tr>\n",
              "      <th>6</th>\n",
              "      <td>ICE,BRN</td>\n",
              "      <td>2013-09-26</td>\n",
              "      <td>109.2</td>\n",
              "      <td>85.2</td>\n",
              "      <td>31.9</td>\n",
              "      <td>5.5</td>\n",
              "      <td>100.2</td>\n",
              "      <td>43116.0</td>\n",
              "    </tr>\n",
              "    <tr>\n",
              "      <th>7</th>\n",
              "      <td>ICE,BRN</td>\n",
              "      <td>2013-09-27</td>\n",
              "      <td>108.4</td>\n",
              "      <td>112.8</td>\n",
              "      <td>32.2</td>\n",
              "      <td>5.5</td>\n",
              "      <td>100.2</td>\n",
              "      <td>43116.0</td>\n",
              "    </tr>\n",
              "    <tr>\n",
              "      <th>8</th>\n",
              "      <td>ICE,BRN</td>\n",
              "      <td>2013-10-01</td>\n",
              "      <td>106.9</td>\n",
              "      <td>54.2</td>\n",
              "      <td>32.5</td>\n",
              "      <td>5.5</td>\n",
              "      <td>100.6</td>\n",
              "      <td>44707.0</td>\n",
              "    </tr>\n",
              "    <tr>\n",
              "      <th>9</th>\n",
              "      <td>ICE,BRN</td>\n",
              "      <td>2013-10-02</td>\n",
              "      <td>108.0</td>\n",
              "      <td>48.6</td>\n",
              "      <td>32.3</td>\n",
              "      <td>5.5</td>\n",
              "      <td>100.6</td>\n",
              "      <td>44707.0</td>\n",
              "    </tr>\n",
              "    <tr>\n",
              "      <th>10</th>\n",
              "      <td>ICE,BRN</td>\n",
              "      <td>2013-10-03</td>\n",
              "      <td>107.7</td>\n",
              "      <td>45.6</td>\n",
              "      <td>32.3</td>\n",
              "      <td>5.5</td>\n",
              "      <td>100.6</td>\n",
              "      <td>44707.0</td>\n",
              "    </tr>\n",
              "    <tr>\n",
              "      <th>11</th>\n",
              "      <td>ICE,BRN</td>\n",
              "      <td>2013-10-04</td>\n",
              "      <td>108.5</td>\n",
              "      <td>40.4</td>\n",
              "      <td>32.1</td>\n",
              "      <td>5.5</td>\n",
              "      <td>100.6</td>\n",
              "      <td>44707.0</td>\n",
              "    </tr>\n",
              "    <tr>\n",
              "      <th>13</th>\n",
              "      <td>ICE,BRN</td>\n",
              "      <td>2013-10-09</td>\n",
              "      <td>108.2</td>\n",
              "      <td>66.3</td>\n",
              "      <td>32.3</td>\n",
              "      <td>5.5</td>\n",
              "      <td>100.6</td>\n",
              "      <td>44707.0</td>\n",
              "    </tr>\n",
              "    <tr>\n",
              "      <th>16</th>\n",
              "      <td>ICE,BRN</td>\n",
              "      <td>2013-10-15</td>\n",
              "      <td>109.0</td>\n",
              "      <td>78.3</td>\n",
              "      <td>32.3</td>\n",
              "      <td>5.5</td>\n",
              "      <td>100.6</td>\n",
              "      <td>44707.0</td>\n",
              "    </tr>\n",
              "    <tr>\n",
              "      <th>18</th>\n",
              "      <td>ICE,BRN</td>\n",
              "      <td>2013-10-17</td>\n",
              "      <td>109.0</td>\n",
              "      <td>134.1</td>\n",
              "      <td>32.3</td>\n",
              "      <td>5.5</td>\n",
              "      <td>100.6</td>\n",
              "      <td>44707.0</td>\n",
              "    </tr>\n",
              "    <tr>\n",
              "      <th>21</th>\n",
              "      <td>ICE,BRN</td>\n",
              "      <td>2013-10-23</td>\n",
              "      <td>107.7</td>\n",
              "      <td>172.5</td>\n",
              "      <td>31.9</td>\n",
              "      <td>5.5</td>\n",
              "      <td>100.6</td>\n",
              "      <td>44707.0</td>\n",
              "    </tr>\n",
              "    <tr>\n",
              "      <th>22</th>\n",
              "      <td>ICE,BRN</td>\n",
              "      <td>2013-10-24</td>\n",
              "      <td>107.0</td>\n",
              "      <td>128.7</td>\n",
              "      <td>31.7</td>\n",
              "      <td>5.5</td>\n",
              "      <td>100.6</td>\n",
              "      <td>44707.0</td>\n",
              "    </tr>\n",
              "    <tr>\n",
              "      <th>23</th>\n",
              "      <td>ICE,BRN</td>\n",
              "      <td>2013-10-25</td>\n",
              "      <td>107.1</td>\n",
              "      <td>106.1</td>\n",
              "      <td>31.7</td>\n",
              "      <td>5.5</td>\n",
              "      <td>100.6</td>\n",
              "      <td>44707.0</td>\n",
              "    </tr>\n",
              "    <tr>\n",
              "      <th>24</th>\n",
              "      <td>ICE,BRN</td>\n",
              "      <td>2013-10-29</td>\n",
              "      <td>108.8</td>\n",
              "      <td>96.0</td>\n",
              "      <td>31.8</td>\n",
              "      <td>5.5</td>\n",
              "      <td>100.6</td>\n",
              "      <td>44707.0</td>\n",
              "    </tr>\n",
              "    <tr>\n",
              "      <th>26</th>\n",
              "      <td>ICE,BRN</td>\n",
              "      <td>2013-10-31</td>\n",
              "      <td>108.9</td>\n",
              "      <td>118.0</td>\n",
              "      <td>32.1</td>\n",
              "      <td>5.5</td>\n",
              "      <td>100.6</td>\n",
              "      <td>44707.0</td>\n",
              "    </tr>\n",
              "    <tr>\n",
              "      <th>27</th>\n",
              "      <td>ICE,BRN</td>\n",
              "      <td>2013-11-01</td>\n",
              "      <td>106.0</td>\n",
              "      <td>42.4</td>\n",
              "      <td>32.1</td>\n",
              "      <td>5.5</td>\n",
              "      <td>100.6</td>\n",
              "      <td>43465.0</td>\n",
              "    </tr>\n",
              "    <tr>\n",
              "      <th>28</th>\n",
              "      <td>ICE,BRN</td>\n",
              "      <td>2013-11-06</td>\n",
              "      <td>105.0</td>\n",
              "      <td>39.8</td>\n",
              "      <td>32.4</td>\n",
              "      <td>5.5</td>\n",
              "      <td>100.6</td>\n",
              "      <td>43465.0</td>\n",
              "    </tr>\n",
              "    <tr>\n",
              "      <th>29</th>\n",
              "      <td>ICE,BRN</td>\n",
              "      <td>2013-11-07</td>\n",
              "      <td>103.5</td>\n",
              "      <td>65.9</td>\n",
              "      <td>32.5</td>\n",
              "      <td>5.5</td>\n",
              "      <td>100.6</td>\n",
              "      <td>43465.0</td>\n",
              "    </tr>\n",
              "    <tr>\n",
              "      <th>30</th>\n",
              "      <td>ICE,BRN</td>\n",
              "      <td>2013-11-08</td>\n",
              "      <td>105.0</td>\n",
              "      <td>76.1</td>\n",
              "      <td>32.4</td>\n",
              "      <td>5.5</td>\n",
              "      <td>100.6</td>\n",
              "      <td>43465.0</td>\n",
              "    </tr>\n",
              "    <tr>\n",
              "      <th>31</th>\n",
              "      <td>ICE,BRN</td>\n",
              "      <td>2013-11-12</td>\n",
              "      <td>105.8</td>\n",
              "      <td>89.1</td>\n",
              "      <td>32.7</td>\n",
              "      <td>5.5</td>\n",
              "      <td>100.6</td>\n",
              "      <td>43465.0</td>\n",
              "    </tr>\n",
              "    <tr>\n",
              "      <th>32</th>\n",
              "      <td>ICE,BRN</td>\n",
              "      <td>2013-11-13</td>\n",
              "      <td>106.9</td>\n",
              "      <td>114.3</td>\n",
              "      <td>32.8</td>\n",
              "      <td>5.5</td>\n",
              "      <td>100.6</td>\n",
              "      <td>43465.0</td>\n",
              "    </tr>\n",
              "    <tr>\n",
              "      <th>33</th>\n",
              "      <td>ICE,BRN</td>\n",
              "      <td>2013-11-14</td>\n",
              "      <td>108.4</td>\n",
              "      <td>155.4</td>\n",
              "      <td>32.8</td>\n",
              "      <td>5.5</td>\n",
              "      <td>100.6</td>\n",
              "      <td>43465.0</td>\n",
              "    </tr>\n",
              "    <tr>\n",
              "      <th>34</th>\n",
              "      <td>ICE,BRN</td>\n",
              "      <td>2013-11-15</td>\n",
              "      <td>108.5</td>\n",
              "      <td>101.7</td>\n",
              "      <td>32.7</td>\n",
              "      <td>5.5</td>\n",
              "      <td>100.6</td>\n",
              "      <td>43465.0</td>\n",
              "    </tr>\n",
              "    <tr>\n",
              "      <th>35</th>\n",
              "      <td>ICE,BRN</td>\n",
              "      <td>2013-11-19</td>\n",
              "      <td>107.1</td>\n",
              "      <td>122.9</td>\n",
              "      <td>32.6</td>\n",
              "      <td>5.5</td>\n",
              "      <td>100.6</td>\n",
              "      <td>43465.0</td>\n",
              "    </tr>\n",
              "    <tr>\n",
              "      <th>36</th>\n",
              "      <td>ICE,BRN</td>\n",
              "      <td>2013-11-20</td>\n",
              "      <td>107.9</td>\n",
              "      <td>123.8</td>\n",
              "      <td>32.6</td>\n",
              "      <td>5.5</td>\n",
              "      <td>100.6</td>\n",
              "      <td>43465.0</td>\n",
              "    </tr>\n",
              "    <tr>\n",
              "      <th>49</th>\n",
              "      <td>ICE,BRN</td>\n",
              "      <td>2013-12-12</td>\n",
              "      <td>108.3</td>\n",
              "      <td>81.8</td>\n",
              "      <td>32.7</td>\n",
              "      <td>5.5</td>\n",
              "      <td>100.5</td>\n",
              "      <td>44984.0</td>\n",
              "    </tr>\n",
              "    <tr>\n",
              "      <th>50</th>\n",
              "      <td>ICE,BRN</td>\n",
              "      <td>2013-12-13</td>\n",
              "      <td>108.3</td>\n",
              "      <td>102.2</td>\n",
              "      <td>32.8</td>\n",
              "      <td>5.5</td>\n",
              "      <td>100.5</td>\n",
              "      <td>44984.0</td>\n",
              "    </tr>\n",
              "    <tr>\n",
              "      <th>...</th>\n",
              "      <td>...</td>\n",
              "      <td>...</td>\n",
              "      <td>...</td>\n",
              "      <td>...</td>\n",
              "      <td>...</td>\n",
              "      <td>...</td>\n",
              "      <td>...</td>\n",
              "      <td>...</td>\n",
              "    </tr>\n",
              "    <tr>\n",
              "      <th>1200</th>\n",
              "      <td>ICE,BRN</td>\n",
              "      <td>2019-11-29</td>\n",
              "      <td>60.7</td>\n",
              "      <td>184.8</td>\n",
              "      <td>64.1</td>\n",
              "      <td>6.5</td>\n",
              "      <td>100.3</td>\n",
              "      <td>46073.0</td>\n",
              "    </tr>\n",
              "    <tr>\n",
              "      <th>1201</th>\n",
              "      <td>ICE,BRN</td>\n",
              "      <td>2019-12-03</td>\n",
              "      <td>61.2</td>\n",
              "      <td>157.2</td>\n",
              "      <td>64.4</td>\n",
              "      <td>6.5</td>\n",
              "      <td>100.4</td>\n",
              "      <td>47684.1</td>\n",
              "    </tr>\n",
              "    <tr>\n",
              "      <th>1202</th>\n",
              "      <td>ICE,BRN</td>\n",
              "      <td>2019-12-04</td>\n",
              "      <td>63.0</td>\n",
              "      <td>213.2</td>\n",
              "      <td>64.1</td>\n",
              "      <td>6.5</td>\n",
              "      <td>100.4</td>\n",
              "      <td>47684.1</td>\n",
              "    </tr>\n",
              "    <tr>\n",
              "      <th>1203</th>\n",
              "      <td>ICE,BRN</td>\n",
              "      <td>2019-12-05</td>\n",
              "      <td>63.3</td>\n",
              "      <td>187.0</td>\n",
              "      <td>64.2</td>\n",
              "      <td>6.5</td>\n",
              "      <td>100.4</td>\n",
              "      <td>47684.1</td>\n",
              "    </tr>\n",
              "    <tr>\n",
              "      <th>1204</th>\n",
              "      <td>ICE,BRN</td>\n",
              "      <td>2019-12-06</td>\n",
              "      <td>64.3</td>\n",
              "      <td>188.3</td>\n",
              "      <td>63.8</td>\n",
              "      <td>6.5</td>\n",
              "      <td>100.4</td>\n",
              "      <td>47684.1</td>\n",
              "    </tr>\n",
              "    <tr>\n",
              "      <th>1205</th>\n",
              "      <td>ICE,BRN</td>\n",
              "      <td>2019-12-10</td>\n",
              "      <td>64.2</td>\n",
              "      <td>129.8</td>\n",
              "      <td>63.7</td>\n",
              "      <td>6.5</td>\n",
              "      <td>100.4</td>\n",
              "      <td>47684.1</td>\n",
              "    </tr>\n",
              "    <tr>\n",
              "      <th>1206</th>\n",
              "      <td>ICE,BRN</td>\n",
              "      <td>2019-12-11</td>\n",
              "      <td>64.0</td>\n",
              "      <td>137.9</td>\n",
              "      <td>63.6</td>\n",
              "      <td>6.5</td>\n",
              "      <td>100.4</td>\n",
              "      <td>47684.1</td>\n",
              "    </tr>\n",
              "    <tr>\n",
              "      <th>1207</th>\n",
              "      <td>ICE,BRN</td>\n",
              "      <td>2019-12-12</td>\n",
              "      <td>64.5</td>\n",
              "      <td>116.9</td>\n",
              "      <td>63.6</td>\n",
              "      <td>6.5</td>\n",
              "      <td>100.4</td>\n",
              "      <td>47684.1</td>\n",
              "    </tr>\n",
              "    <tr>\n",
              "      <th>1208</th>\n",
              "      <td>ICE,BRN</td>\n",
              "      <td>2019-12-13</td>\n",
              "      <td>65.0</td>\n",
              "      <td>132.3</td>\n",
              "      <td>63.2</td>\n",
              "      <td>6.5</td>\n",
              "      <td>100.4</td>\n",
              "      <td>47684.1</td>\n",
              "    </tr>\n",
              "    <tr>\n",
              "      <th>1209</th>\n",
              "      <td>ICE,BRN</td>\n",
              "      <td>2019-12-17</td>\n",
              "      <td>65.8</td>\n",
              "      <td>125.2</td>\n",
              "      <td>62.8</td>\n",
              "      <td>6.2</td>\n",
              "      <td>100.4</td>\n",
              "      <td>47684.1</td>\n",
              "    </tr>\n",
              "    <tr>\n",
              "      <th>1210</th>\n",
              "      <td>ICE,BRN</td>\n",
              "      <td>2019-12-18</td>\n",
              "      <td>66.2</td>\n",
              "      <td>123.4</td>\n",
              "      <td>62.5</td>\n",
              "      <td>6.2</td>\n",
              "      <td>100.4</td>\n",
              "      <td>47684.1</td>\n",
              "    </tr>\n",
              "    <tr>\n",
              "      <th>1211</th>\n",
              "      <td>ICE,BRN</td>\n",
              "      <td>2019-12-19</td>\n",
              "      <td>66.6</td>\n",
              "      <td>92.3</td>\n",
              "      <td>62.6</td>\n",
              "      <td>6.2</td>\n",
              "      <td>100.4</td>\n",
              "      <td>47684.1</td>\n",
              "    </tr>\n",
              "    <tr>\n",
              "      <th>1212</th>\n",
              "      <td>ICE,BRN</td>\n",
              "      <td>2019-12-20</td>\n",
              "      <td>66.1</td>\n",
              "      <td>107.2</td>\n",
              "      <td>62.5</td>\n",
              "      <td>6.2</td>\n",
              "      <td>100.4</td>\n",
              "      <td>47684.1</td>\n",
              "    </tr>\n",
              "    <tr>\n",
              "      <th>1213</th>\n",
              "      <td>ICE,BRN</td>\n",
              "      <td>2019-12-24</td>\n",
              "      <td>67.2</td>\n",
              "      <td>51.3</td>\n",
              "      <td>62.2</td>\n",
              "      <td>6.2</td>\n",
              "      <td>100.4</td>\n",
              "      <td>47684.1</td>\n",
              "    </tr>\n",
              "    <tr>\n",
              "      <th>1214</th>\n",
              "      <td>ICE,BRN</td>\n",
              "      <td>2019-12-26</td>\n",
              "      <td>66.8</td>\n",
              "      <td>55.8</td>\n",
              "      <td>61.7</td>\n",
              "      <td>6.2</td>\n",
              "      <td>100.4</td>\n",
              "      <td>47684.1</td>\n",
              "    </tr>\n",
              "    <tr>\n",
              "      <th>1215</th>\n",
              "      <td>ICE,BRN</td>\n",
              "      <td>2019-12-27</td>\n",
              "      <td>66.8</td>\n",
              "      <td>103.3</td>\n",
              "      <td>61.8</td>\n",
              "      <td>6.2</td>\n",
              "      <td>100.4</td>\n",
              "      <td>47684.1</td>\n",
              "    </tr>\n",
              "    <tr>\n",
              "      <th>1216</th>\n",
              "      <td>ICE,BRN</td>\n",
              "      <td>2019-12-31</td>\n",
              "      <td>66.0</td>\n",
              "      <td>122.5</td>\n",
              "      <td>61.9</td>\n",
              "      <td>6.2</td>\n",
              "      <td>100.4</td>\n",
              "      <td>47684.1</td>\n",
              "    </tr>\n",
              "    <tr>\n",
              "      <th>1217</th>\n",
              "      <td>ICE,BRN</td>\n",
              "      <td>2020-01-10</td>\n",
              "      <td>65.1</td>\n",
              "      <td>162.3</td>\n",
              "      <td>61.2</td>\n",
              "      <td>6.2</td>\n",
              "      <td>100.4</td>\n",
              "      <td>47874.7</td>\n",
              "    </tr>\n",
              "    <tr>\n",
              "      <th>1218</th>\n",
              "      <td>ICE,BRN</td>\n",
              "      <td>2020-01-14</td>\n",
              "      <td>64.5</td>\n",
              "      <td>136.3</td>\n",
              "      <td>60.9</td>\n",
              "      <td>6.2</td>\n",
              "      <td>100.4</td>\n",
              "      <td>47874.7</td>\n",
              "    </tr>\n",
              "    <tr>\n",
              "      <th>1219</th>\n",
              "      <td>ICE,BRN</td>\n",
              "      <td>2020-01-15</td>\n",
              "      <td>64.3</td>\n",
              "      <td>127.4</td>\n",
              "      <td>61.4</td>\n",
              "      <td>6.2</td>\n",
              "      <td>100.4</td>\n",
              "      <td>47874.7</td>\n",
              "    </tr>\n",
              "    <tr>\n",
              "      <th>1220</th>\n",
              "      <td>ICE,BRN</td>\n",
              "      <td>2020-01-16</td>\n",
              "      <td>64.7</td>\n",
              "      <td>123.4</td>\n",
              "      <td>61.4</td>\n",
              "      <td>6.2</td>\n",
              "      <td>100.4</td>\n",
              "      <td>47874.7</td>\n",
              "    </tr>\n",
              "    <tr>\n",
              "      <th>1221</th>\n",
              "      <td>ICE,BRN</td>\n",
              "      <td>2020-01-17</td>\n",
              "      <td>65.3</td>\n",
              "      <td>121.6</td>\n",
              "      <td>61.6</td>\n",
              "      <td>6.2</td>\n",
              "      <td>100.4</td>\n",
              "      <td>47874.7</td>\n",
              "    </tr>\n",
              "    <tr>\n",
              "      <th>1222</th>\n",
              "      <td>ICE,BRN</td>\n",
              "      <td>2020-01-21</td>\n",
              "      <td>64.5</td>\n",
              "      <td>143.2</td>\n",
              "      <td>61.5</td>\n",
              "      <td>6.2</td>\n",
              "      <td>100.4</td>\n",
              "      <td>47874.7</td>\n",
              "    </tr>\n",
              "    <tr>\n",
              "      <th>1223</th>\n",
              "      <td>ICE,BRN</td>\n",
              "      <td>2020-01-22</td>\n",
              "      <td>62.7</td>\n",
              "      <td>167.9</td>\n",
              "      <td>61.9</td>\n",
              "      <td>6.2</td>\n",
              "      <td>100.4</td>\n",
              "      <td>47874.7</td>\n",
              "    </tr>\n",
              "    <tr>\n",
              "      <th>1224</th>\n",
              "      <td>ICE,BRN</td>\n",
              "      <td>2020-01-23</td>\n",
              "      <td>62.1</td>\n",
              "      <td>186.7</td>\n",
              "      <td>61.8</td>\n",
              "      <td>6.2</td>\n",
              "      <td>100.4</td>\n",
              "      <td>47874.7</td>\n",
              "    </tr>\n",
              "    <tr>\n",
              "      <th>1225</th>\n",
              "      <td>ICE,BRN</td>\n",
              "      <td>2020-01-24</td>\n",
              "      <td>60.6</td>\n",
              "      <td>147.9</td>\n",
              "      <td>62.0</td>\n",
              "      <td>6.2</td>\n",
              "      <td>100.4</td>\n",
              "      <td>47874.7</td>\n",
              "    </tr>\n",
              "    <tr>\n",
              "      <th>1226</th>\n",
              "      <td>ICE,BRN</td>\n",
              "      <td>2020-01-28</td>\n",
              "      <td>59.3</td>\n",
              "      <td>125.4</td>\n",
              "      <td>62.3</td>\n",
              "      <td>6.2</td>\n",
              "      <td>100.4</td>\n",
              "      <td>47874.7</td>\n",
              "    </tr>\n",
              "    <tr>\n",
              "      <th>1227</th>\n",
              "      <td>ICE,BRN</td>\n",
              "      <td>2020-01-29</td>\n",
              "      <td>58.7</td>\n",
              "      <td>168.6</td>\n",
              "      <td>62.8</td>\n",
              "      <td>6.2</td>\n",
              "      <td>100.4</td>\n",
              "      <td>47874.7</td>\n",
              "    </tr>\n",
              "    <tr>\n",
              "      <th>1228</th>\n",
              "      <td>ICE,BRN</td>\n",
              "      <td>2020-01-30</td>\n",
              "      <td>58.1</td>\n",
              "      <td>228.8</td>\n",
              "      <td>62.4</td>\n",
              "      <td>6.2</td>\n",
              "      <td>100.4</td>\n",
              "      <td>47874.7</td>\n",
              "    </tr>\n",
              "    <tr>\n",
              "      <th>1229</th>\n",
              "      <td>ICE,BRN</td>\n",
              "      <td>2020-01-31</td>\n",
              "      <td>56.7</td>\n",
              "      <td>260.4</td>\n",
              "      <td>63.0</td>\n",
              "      <td>6.2</td>\n",
              "      <td>100.4</td>\n",
              "      <td>47874.7</td>\n",
              "    </tr>\n",
              "  </tbody>\n",
              "</table>\n",
              "<p>1169 rows × 8 columns</p>\n",
              "</div>"
            ]
          },
          "metadata": {
            "tags": []
          },
          "execution_count": 41
        }
      ]
    },
    {
      "cell_type": "markdown",
      "metadata": {
        "id": "FpAVjv-WGrVm"
      },
      "source": [
        "Корреляционная матрица, которая позволяет увидеть зависимость признаков друг от друга. Самая большая зависимость оказалась между Price и Exchange.\n"
      ]
    },
    {
      "cell_type": "code",
      "metadata": {
        "colab": {
          "base_uri": "https://localhost:8080/",
          "height": 486
        },
        "id": "GXzeCqFgGAGf",
        "outputId": "04668dac-287a-478b-8212-23ab8068fa9d"
      },
      "source": [
        "plt.figure(figsize = (10, 8))\n",
        "sns.heatmap(dt.corr(), annot = True, linewidths=.5, cmap = 'Reds')\n",
        "plt.show()"
      ],
      "execution_count": null,
      "outputs": [
        {
          "output_type": "display_data",
          "data": {
            "image/png": "[encoded data removed]",
            "text/plain": [
              "<Figure size 720x576 with 2 Axes>"
            ]
          },
          "metadata": {
            "tags": [],
            "needs_background": "light"
          }
        }
      ]
    },
    {
      "cell_type": "code",
      "metadata": {
        "colab": {
          "base_uri": "https://localhost:8080/"
        },
        "id": "-9EEjHh7ySYG",
        "outputId": "9cd60a64-2a74-4156-c276-f05be7955b59"
      },
      "source": [
        "numerical_columns = dt.columns[dt.dtypes != 'object'].drop(['price' ,'date_x'])\n",
        "numerical_columns"
      ],
      "execution_count": null,
      "outputs": [
        {
          "output_type": "execute_result",
          "data": {
            "text/plain": [
              "Index([u'volume', u'exchange', u'keyrate', u'inf', u'dob'], dtype='object')"
            ]
          },
          "metadata": {
            "tags": []
          },
          "execution_count": 43
        }
      ]
    },
    {
      "cell_type": "markdown",
      "metadata": {
        "id": "myDzNp6kySYQ"
      },
      "source": [
        "## 4. Расчет цены нефти по внешним факторам"
      ]
    },
    {
      "cell_type": "markdown",
      "metadata": {
        "id": "PGJ7l8pZySYQ"
      },
      "source": [
        "Так как между Price и Exchange был самый большой коэффициент корреляции, то попробуем начала построить парную регрессию между этими параметрами."
      ]
    },
    {
      "cell_type": "code",
      "metadata": {
        "colab": {
          "base_uri": "https://localhost:8080/",
          "height": 441
        },
        "id": "5okkvxoqySYR",
        "outputId": "778f07df-52a9-4a40-d330-8bc8d3720132"
      },
      "source": [
        "sns.jointplot(x=\"price\",y=\"exchange\",data=dt,kind=\"reg\")\n",
        "plt.show()"
      ],
      "execution_count": null,
      "outputs": [
        {
          "output_type": "display_data",
          "data": {
            "image/png": "[encoded data removed]",
            "text/plain": [
              "<Figure size 432x432 with 3 Axes>"
            ]
          },
          "metadata": {
            "tags": [],
            "needs_background": "light"
          }
        }
      ]
    },
    {
      "cell_type": "code",
      "metadata": {
        "colab": {
          "base_uri": "https://localhost:8080/"
        },
        "id": "ossuSuWDySYS",
        "outputId": "1316c42c-c116-4335-d89e-75f673c797c9"
      },
      "source": [
        "from sklearn.linear_model import LinearRegression\n",
        "from sklearn.metrics import mean_squared_error\n",
        "X = np.array(dt['exchange'])\n",
        "y = np.array(dt['price'])\n",
        "reg = LinearRegression()\n",
        "model = reg.fit(X.reshape(-1,1),y)\n",
        "print('Intercept = '+ str(model.intercept_))\n",
        "print('Коэффицент регрессии = '+ str(model.coef_[0]))\n",
        "print('R^2 = '+str(model.score(X.reshape(-1,1),y)))\n",
        "print('MSE='+str(mean_squared_error(X.reshape(-1,1),y)))\n"
      ],
      "execution_count": null,
      "outputs": [
        {
          "output_type": "stream",
          "text": [
            "Intercept = 152.55043776496402\n",
            "Коэффицент регрессии = -1.496825447963775\n",
            "R^2 = 0.6936518561484164\n",
            "MSE=830.845628879213\n"
          ],
          "name": "stdout"
        }
      ]
    },
    {
      "cell_type": "markdown",
      "metadata": {
        "id": "l5NXy2eWySYS"
      },
      "source": [
        "Так как rscore достаточно низкий, построим множественную регрессию"
      ]
    },
    {
      "cell_type": "code",
      "metadata": {
        "id": "qYhIvnl3ySYT"
      },
      "source": [
        "X = dt.drop(['ticker','price','date_x'], axis=1).get_values()\n",
        "y = dt['price'].get_values()"
      ],
      "execution_count": null,
      "outputs": []
    },
    {
      "cell_type": "code",
      "metadata": {
        "colab": {
          "base_uri": "https://localhost:8080/"
        },
        "id": "3iLwOubaySYT",
        "outputId": "9a94e82b-926c-4949-c95b-4c48e7e14c9b"
      },
      "source": [
        "import statsmodels.api as sm\n",
        "\n",
        "#линейная регрессия\n",
        "est = sm.OLS(y, X)\n",
        "est = est.fit()\n",
        "print(est.summary())\n"
      ],
      "execution_count": null,
      "outputs": [
        {
          "output_type": "stream",
          "text": [
            "                                 OLS Regression Results                                \n",
            "=======================================================================================\n",
            "Dep. Variable:                      y   R-squared (uncentered):                   0.985\n",
            "Model:                            OLS   Adj. R-squared (uncentered):              0.985\n",
            "Method:                 Least Squares   F-statistic:                          1.561e+04\n",
            "Date:                Fri, 11 Jun 2021   Prob (F-statistic):                        0.00\n",
            "Time:                        11:03:25   Log-Likelihood:                         -4112.2\n",
            "No. Observations:                1169   AIC:                                      8234.\n",
            "Df Residuals:                    1164   BIC:                                      8260.\n",
            "Df Model:                           5                                                  \n",
            "Covariance Type:            nonrobust                                                  \n",
            "==============================================================================\n",
            "                 coef    std err          t      P>|t|      [0.025      0.975]\n",
            "------------------------------------------------------------------------------\n",
            "x1            -0.0199      0.005     -4.006      0.000      -0.030      -0.010\n",
            "x2            -1.2077      0.032    -38.272      0.000      -1.270      -1.146\n",
            "x3            -3.1974      0.128    -24.961      0.000      -3.449      -2.946\n",
            "x4             1.8346      0.079     23.193      0.000       1.679       1.990\n",
            "x5            -0.0004      0.000     -2.048      0.041      -0.001   -1.54e-05\n",
            "==============================================================================\n",
            "Omnibus:                       77.011   Durbin-Watson:                   0.058\n",
            "Prob(Omnibus):                  0.000   Jarque-Bera (JB):               91.719\n",
            "Skew:                           0.642   Prob(JB):                     1.21e-20\n",
            "Kurtosis:                       3.486   Cond. No.                     2.64e+04\n",
            "==============================================================================\n",
            "\n",
            "Warnings:\n",
            "[1] Standard Errors assume that the covariance matrix of the errors is correctly specified.\n",
            "[2] The condition number is large, 2.64e+04. This might indicate that there are\n",
            "strong multicollinearity or other numerical problems.\n"
          ],
          "name": "stdout"
        }
      ]
    },
    {
      "cell_type": "code",
      "metadata": {
        "colab": {
          "base_uri": "https://localhost:8080/"
        },
        "id": "fZ5kE7_TySYV",
        "outputId": "85fc2bd6-783f-41f4-d749-f9d6f3d0e608"
      },
      "source": [
        "print ('R^2 = '+str(est.rsquared))"
      ],
      "execution_count": null,
      "outputs": [
        {
          "output_type": "stream",
          "text": [
            "R^2 = 0.9853073274484205\n"
          ],
          "name": "stdout"
        }
      ]
    },
    {
      "cell_type": "code",
      "metadata": {
        "colab": {
          "base_uri": "https://localhost:8080/"
        },
        "id": "I0GEyBaAJS3t",
        "outputId": "afb6e4c0-43e3-4b67-fe6a-133b2d11cae7"
      },
      "source": [
        "from sklearn.metrics import mean_squared_error\n",
        "MSE=est.mse_resid\n",
        "print('MSE='+str(MSE))"
      ],
      "execution_count": null,
      "outputs": [
        {
          "output_type": "stream",
          "text": [
            "MSE=66.80475126339483\n"
          ],
          "name": "stdout"
        }
      ]
    },
    {
      "cell_type": "code",
      "metadata": {
        "colab": {
          "base_uri": "https://localhost:8080/",
          "height": 204
        },
        "id": "OZTNRGphySYW",
        "outputId": "c2b7791a-7240-4ffd-aba9-6991b37dfc22"
      },
      "source": [
        "results_ols = pd.DataFrame()\n",
        "results_ols['feature'] = ['volume','exchange','keyrate','inf','dob']\n",
        "results_ols['coefs'] = est.params\n",
        "results_ols"
      ],
      "execution_count": null,
      "outputs": [
        {
          "output_type": "execute_result",
          "data": {
            "text/plain": [
              "    feature  coefs\n",
              "0    volume   -0.0\n",
              "1  exchange   -1.2\n",
              "2   keyrate   -3.2\n",
              "3       inf    1.8\n",
              "4       dob   -0.0"
            ],
            "text/html": [
              "<div>\n",
              "<style scoped>\n",
              "    .dataframe tbody tr th:only-of-type {\n",
              "        vertical-align: middle;\n",
              "    }\n",
              "\n",
              "    .dataframe tbody tr th {\n",
              "        vertical-align: top;\n",
              "    }\n",
              "\n",
              "    .dataframe thead th {\n",
              "        text-align: right;\n",
              "    }\n",
              "</style>\n",
              "<table border=\"1\" class=\"dataframe\">\n",
              "  <thead>\n",
              "    <tr style=\"text-align: right;\">\n",
              "      <th></th>\n",
              "      <th>feature</th>\n",
              "      <th>coefs</th>\n",
              "    </tr>\n",
              "  </thead>\n",
              "  <tbody>\n",
              "    <tr>\n",
              "      <th>0</th>\n",
              "      <td>volume</td>\n",
              "      <td>-0.0</td>\n",
              "    </tr>\n",
              "    <tr>\n",
              "      <th>1</th>\n",
              "      <td>exchange</td>\n",
              "      <td>-1.2</td>\n",
              "    </tr>\n",
              "    <tr>\n",
              "      <th>2</th>\n",
              "      <td>keyrate</td>\n",
              "      <td>-3.2</td>\n",
              "    </tr>\n",
              "    <tr>\n",
              "      <th>3</th>\n",
              "      <td>inf</td>\n",
              "      <td>1.8</td>\n",
              "    </tr>\n",
              "    <tr>\n",
              "      <th>4</th>\n",
              "      <td>dob</td>\n",
              "      <td>-0.0</td>\n",
              "    </tr>\n",
              "  </tbody>\n",
              "</table>\n",
              "</div>"
            ]
          },
          "metadata": {
            "tags": []
          },
          "execution_count": 50
        }
      ]
    },
    {
      "cell_type": "markdown",
      "metadata": {
        "id": "7CFPaMJUySYX"
      },
      "source": [
        "## Лассо"
      ]
    },
    {
      "cell_type": "code",
      "metadata": {
        "id": "3752KTMXySYX"
      },
      "source": [
        "from sklearn.linear_model import LinearRegression, Lasso, Ridge\n",
        "from sklearn.linear_model import LassoCV, RidgeCV"
      ],
      "execution_count": null,
      "outputs": []
    },
    {
      "cell_type": "code",
      "metadata": {
        "id": "Df3-ezDHySYY"
      },
      "source": [
        "X_train, X_test, y_train, y_test = train_test_split(X, y, test_size=0.33, random_state=42)\n",
        "lasso_model = Lasso().fit(X_train,y_train)\n",
        "pred=lasso_model.predict(X_test)"
      ],
      "execution_count": null,
      "outputs": []
    },
    {
      "cell_type": "code",
      "metadata": {
        "colab": {
          "base_uri": "https://localhost:8080/"
        },
        "id": "ptSmYW5eySYZ",
        "outputId": "af1b361a-8b33-4f3d-a890-a86c53ae9187"
      },
      "source": [
        "print('R^2='+str(lasso_model.score(X,y)))"
      ],
      "execution_count": null,
      "outputs": [
        {
          "output_type": "stream",
          "text": [
            "R^2=0.8089068489277916\n"
          ],
          "name": "stdout"
        }
      ]
    },
    {
      "cell_type": "code",
      "metadata": {
        "colab": {
          "base_uri": "https://localhost:8080/"
        },
        "id": "B4-CILtyK3cn",
        "outputId": "cc2cf93d-f01d-4753-8a6f-20d57173afdf"
      },
      "source": [
        "MSE=mean_squared_error(y_test,pred)\n",
        "print('MSE='+str(MSE))"
      ],
      "execution_count": null,
      "outputs": [
        {
          "output_type": "stream",
          "text": [
            "MSE=74.561449323948\n"
          ],
          "name": "stdout"
        }
      ]
    },
    {
      "cell_type": "markdown",
      "metadata": {
        "id": "cZCWHKDGySYa"
      },
      "source": [
        "## Ридж "
      ]
    },
    {
      "cell_type": "code",
      "metadata": {
        "colab": {
          "base_uri": "https://localhost:8080/"
        },
        "id": "xWPSv1WhySYb",
        "outputId": "6d53128d-9231-47ff-b38e-d231a47fad7c"
      },
      "source": [
        "from sklearn.model_selection import train_test_split\n",
        "X_train, X_test, y_train, y_test = train_test_split(X, y, test_size=0.2, random_state=42)\n",
        "ridge_model = Ridge(alpha=0.1).fit(X_train, y_train)\n",
        "ridge_model"
      ],
      "execution_count": null,
      "outputs": [
        {
          "output_type": "execute_result",
          "data": {
            "text/plain": [
              "Ridge(alpha=0.1, copy_X=True, fit_intercept=True, max_iter=None,\n",
              "   normalize=False, random_state=None, solver='auto', tol=0.001)"
            ]
          },
          "metadata": {
            "tags": []
          },
          "execution_count": 55
        }
      ]
    },
    {
      "cell_type": "code",
      "metadata": {
        "colab": {
          "base_uri": "https://localhost:8080/"
        },
        "id": "EdEa6g3cySYd",
        "outputId": "cd09a4b0-5e7d-42c9-b486-916f616e8d0d"
      },
      "source": [
        "ridge_model.score(X,y)\n",
        "print('R^2='+str(ridge_model.score(X,y)))"
      ],
      "execution_count": null,
      "outputs": [
        {
          "output_type": "stream",
          "text": [
            "R^2=0.8307906605851827\n"
          ],
          "name": "stdout"
        }
      ]
    },
    {
      "cell_type": "code",
      "metadata": {
        "colab": {
          "base_uri": "https://localhost:8080/",
          "height": 204
        },
        "id": "gPu3ZYbmySYd",
        "outputId": "5b8d12ac-b2d5-4263-c97a-bea8a30bc971"
      },
      "source": [
        "results_ridge = pd.DataFrame()\n",
        "results_ridge['feature'] = dt.columns[dt.dtypes != 'object'].drop(['price' ,'date_x'])\n",
        "results_ridge['coefs'] = ridge_model.coef_\n",
        "results_ridge"
      ],
      "execution_count": null,
      "outputs": [
        {
          "output_type": "execute_result",
          "data": {
            "text/plain": [
              "    feature  coefs\n",
              "0    volume   -0.0\n",
              "1  exchange   -1.1\n",
              "2   keyrate   -3.8\n",
              "3       inf    7.0\n",
              "4       dob   -0.0"
            ],
            "text/html": [
              "<div>\n",
              "<style scoped>\n",
              "    .dataframe tbody tr th:only-of-type {\n",
              "        vertical-align: middle;\n",
              "    }\n",
              "\n",
              "    .dataframe tbody tr th {\n",
              "        vertical-align: top;\n",
              "    }\n",
              "\n",
              "    .dataframe thead th {\n",
              "        text-align: right;\n",
              "    }\n",
              "</style>\n",
              "<table border=\"1\" class=\"dataframe\">\n",
              "  <thead>\n",
              "    <tr style=\"text-align: right;\">\n",
              "      <th></th>\n",
              "      <th>feature</th>\n",
              "      <th>coefs</th>\n",
              "    </tr>\n",
              "  </thead>\n",
              "  <tbody>\n",
              "    <tr>\n",
              "      <th>0</th>\n",
              "      <td>volume</td>\n",
              "      <td>-0.0</td>\n",
              "    </tr>\n",
              "    <tr>\n",
              "      <th>1</th>\n",
              "      <td>exchange</td>\n",
              "      <td>-1.1</td>\n",
              "    </tr>\n",
              "    <tr>\n",
              "      <th>2</th>\n",
              "      <td>keyrate</td>\n",
              "      <td>-3.8</td>\n",
              "    </tr>\n",
              "    <tr>\n",
              "      <th>3</th>\n",
              "      <td>inf</td>\n",
              "      <td>7.0</td>\n",
              "    </tr>\n",
              "    <tr>\n",
              "      <th>4</th>\n",
              "      <td>dob</td>\n",
              "      <td>-0.0</td>\n",
              "    </tr>\n",
              "  </tbody>\n",
              "</table>\n",
              "</div>"
            ]
          },
          "metadata": {
            "tags": []
          },
          "execution_count": 57
        }
      ]
    },
    {
      "cell_type": "code",
      "metadata": {
        "colab": {
          "base_uri": "https://localhost:8080/"
        },
        "id": "RLhyKAytySYf",
        "outputId": "d2d3111e-b993-4e67-9e39-ac9c9d1eec0a"
      },
      "source": [
        "ridge_model = Ridge().fit(X_train,y_train)\n",
        "\n",
        "y_pred = ridge_model.predict(X_train)\n",
        "\n",
        "print(\"predict: \", y_pred[0:10])\n",
        "print(\"real: \", y_train[0:10])"
      ],
      "execution_count": null,
      "outputs": [
        {
          "output_type": "stream",
          "text": [
            "('predict: ', array([ 58.91517437,  37.03119166,  65.00717784,  85.8223218 ,\n",
            "        59.29863465,  64.05756199,  57.44171693,  46.94878381,\n",
            "        54.4260106 , 102.94091218]))\n",
            "('real: ', array([ 55.49,  59.81,  63.93,  66.79,  55.74,  56.45,  76.63,  43.9 ,\n",
            "        45.66, 109.14]))\n"
          ],
          "name": "stdout"
        }
      ]
    },
    {
      "cell_type": "code",
      "metadata": {
        "colab": {
          "base_uri": "https://localhost:8080/"
        },
        "id": "1IImfmZsySYg",
        "outputId": "10eb70d5-e1c8-4919-813f-ba36b4dd2b40"
      },
      "source": [
        "y_pred = ridge_model.predict(X_test)\n",
        "MSEtest = (mean_squared_error(y_test,y_pred))\n",
        "print(\"test error: \", MSEtest)"
      ],
      "execution_count": null,
      "outputs": [
        {
          "output_type": "stream",
          "text": [
            "('test error: ', 61.94400005801087)\n"
          ],
          "name": "stdout"
        }
      ]
    },
    {
      "cell_type": "code",
      "metadata": {
        "id": "CWGuUqoXySYi"
      },
      "source": [
        "from sklearn.metrics import make_scorer\n",
        "from sklearn.metrics import mean_squared_error\n",
        "from sklearn.model_selection import GridSearchCV\n",
        "from sklearn.model_selection import train_test_split\n",
        "\n",
        "\n",
        "def train_validate_model(model, X,y , grid_search_params):\n",
        "       \n",
        "    X_train, X_test, y_train, y_test = train_test_split(X,y,train_size = 0.8, random_state = 123)\n",
        "    \n",
        "    model_grid = GridSearchCV(model, \n",
        "                              grid_search_params,\n",
        "                              scoring = make_scorer(mean_squared_error), # Установка метрики по которой будут сравниваться модели\n",
        "                              cv=5, n_jobs=-1,verbose= 0)\n",
        "    \n",
        "    model_grid.fit(X_train, y_train)\n",
        "\n",
        "    # Переменные для вывода и для сохранения\n",
        "    model_type = str(type(model)).split('.')[-1].replace(\"'>\",'') # Выделение названия модели из type(model)\n",
        "\n",
        "    model_info = {\n",
        "        'model': model_type,\n",
        "        'MSE' : model_grid.best_score_,\n",
        "        'R^2': model_grid.,\n",
        "        'Best params': model_grid.best_params_\n",
        "        }\n",
        "\n",
        "    print('Тип модели: ', model_type)\n",
        "    print('MSE: {}'.format(model_grid.best_score_))\n",
        "    print('R^2', model_grid.R)\n",
        "    print('Best params: ',model_grid.best_params_)\n",
        "    print('-----------------------------------\\n')\n",
        "    return model_grid.best_estimator_, model_info"
      ],
      "execution_count": null,
      "outputs": []
    },
    {
      "cell_type": "code",
      "metadata": {
        "id": "TYsfdxNaySYj"
      },
      "source": [
        "from sklearn.tree import DecisionTreeRegressor\n",
        "from sklearn.ensemble import RandomForestRegressor\n",
        "\n",
        "dectree = DecisionTreeRegressor()\n",
        "randfor = RandomForestRegressor()\n",
        "\n",
        "dectree_params = {'min_samples_split':np.arange(2,20)}\n",
        "randfor_params = {'min_samples_split':np.arange(2,20)}\n",
        "\n",
        "models = [(dectree, dectree_params), (randfor, randfor_params)]"
      ],
      "execution_count": null,
      "outputs": []
    },
    {
      "cell_type": "code",
      "metadata": {
        "colab": {
          "base_uri": "https://localhost:8080/",
          "height": 351
        },
        "id": "qb3IMBk3ySYj",
        "outputId": "eb631220-5452-40bd-a543-25f4c63a4d08"
      },
      "source": [
        "model_info = []\n",
        "estimators = []\n",
        "for model in models:\n",
        "    estimator, info = train_validate_model(model[0], X, y, model[1])\n",
        "    model_info.append(info)\n",
        "    estimators.append(estimator)"
      ],
      "execution_count": null,
      "outputs": [
        {
          "output_type": "error",
          "ename": "AttributeError",
          "evalue": "ignored",
          "traceback": [
            "\u001b[0;31m\u001b[0m",
            "\u001b[0;31mAttributeError\u001b[0mTraceback (most recent call last)",
            "\u001b[0;32m<ipython-input-69-9125ed05e2ed>\u001b[0m in \u001b[0;36m<module>\u001b[0;34m()\u001b[0m\n\u001b[1;32m      2\u001b[0m \u001b[0mestimators\u001b[0m \u001b[0;34m=\u001b[0m \u001b[0;34m[\u001b[0m\u001b[0;34m]\u001b[0m\u001b[0;34m\u001b[0m\u001b[0m\n\u001b[1;32m      3\u001b[0m \u001b[0;32mfor\u001b[0m \u001b[0mmodel\u001b[0m \u001b[0;32min\u001b[0m \u001b[0mmodels\u001b[0m\u001b[0;34m:\u001b[0m\u001b[0;34m\u001b[0m\u001b[0m\n\u001b[0;32m----> 4\u001b[0;31m     \u001b[0mestimator\u001b[0m\u001b[0;34m,\u001b[0m \u001b[0minfo\u001b[0m \u001b[0;34m=\u001b[0m \u001b[0mtrain_validate_model\u001b[0m\u001b[0;34m(\u001b[0m\u001b[0mmodel\u001b[0m\u001b[0;34m[\u001b[0m\u001b[0;36m0\u001b[0m\u001b[0;34m]\u001b[0m\u001b[0;34m,\u001b[0m \u001b[0mX\u001b[0m\u001b[0;34m,\u001b[0m \u001b[0my\u001b[0m\u001b[0;34m,\u001b[0m \u001b[0mmodel\u001b[0m\u001b[0;34m[\u001b[0m\u001b[0;36m1\u001b[0m\u001b[0;34m]\u001b[0m\u001b[0;34m)\u001b[0m\u001b[0;34m\u001b[0m\u001b[0m\n\u001b[0m\u001b[1;32m      5\u001b[0m     \u001b[0mmodel_info\u001b[0m\u001b[0;34m.\u001b[0m\u001b[0mappend\u001b[0m\u001b[0;34m(\u001b[0m\u001b[0minfo\u001b[0m\u001b[0;34m)\u001b[0m\u001b[0;34m\u001b[0m\u001b[0m\n\u001b[1;32m      6\u001b[0m     \u001b[0mestimators\u001b[0m\u001b[0;34m.\u001b[0m\u001b[0mappend\u001b[0m\u001b[0;34m(\u001b[0m\u001b[0mestimator\u001b[0m\u001b[0;34m)\u001b[0m\u001b[0;34m\u001b[0m\u001b[0m\n",
            "\u001b[0;32m<ipython-input-67-63c8e1c5f7d7>\u001b[0m in \u001b[0;36mtrain_validate_model\u001b[0;34m(model, X, y, grid_search_params)\u001b[0m\n\u001b[1;32m     22\u001b[0m         \u001b[0;34m'model'\u001b[0m\u001b[0;34m:\u001b[0m \u001b[0mmodel_type\u001b[0m\u001b[0;34m,\u001b[0m\u001b[0;34m\u001b[0m\u001b[0m\n\u001b[1;32m     23\u001b[0m         \u001b[0;34m'MSE'\u001b[0m \u001b[0;34m:\u001b[0m \u001b[0mmodel_grid\u001b[0m\u001b[0;34m.\u001b[0m\u001b[0mbest_score_\u001b[0m\u001b[0;34m,\u001b[0m\u001b[0;34m\u001b[0m\u001b[0m\n\u001b[0;32m---> 24\u001b[0;31m         \u001b[0;34m'R^2'\u001b[0m\u001b[0;34m:\u001b[0m \u001b[0mmodel_grid\u001b[0m\u001b[0;34m.\u001b[0m\u001b[0mR\u001b[0m\u001b[0;34m,\u001b[0m\u001b[0;34m\u001b[0m\u001b[0m\n\u001b[0m\u001b[1;32m     25\u001b[0m         \u001b[0;34m'Best params'\u001b[0m\u001b[0;34m:\u001b[0m \u001b[0mmodel_grid\u001b[0m\u001b[0;34m.\u001b[0m\u001b[0mbest_params_\u001b[0m\u001b[0;34m\u001b[0m\u001b[0m\n\u001b[1;32m     26\u001b[0m         }\n",
            "\u001b[0;31mAttributeError\u001b[0m: 'GridSearchCV' object has no attribute 'R'"
          ]
        }
      ]
    },
    {
      "cell_type": "code",
      "metadata": {
        "id": "LeLx-PJiySYk"
      },
      "source": [
        ""
      ],
      "execution_count": null,
      "outputs": []
    }
  ]
}